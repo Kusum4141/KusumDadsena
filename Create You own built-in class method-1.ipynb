{
 "cells": [
  {
   "cell_type": "code",
   "execution_count": 4,
   "id": "7f638ff8",
   "metadata": {},
   "outputs": [
    {
     "name": "stdout",
     "output_type": "stream",
     "text": [
      "31\n"
     ]
    }
   ],
   "source": [
    "class Addition:\n",
    "    def __init__(self,a1,a2):\n",
    "        self.a1=a1\n",
    "        self.a2=a2\n",
    "    def add(self):\n",
    "        return self.a1 + self.a2\n",
    "ex=Addition(29,2)\n",
    "print(ex.add())"
   ]
  },
  {
   "cell_type": "code",
   "execution_count": 6,
   "id": "8cd0327e",
   "metadata": {},
   "outputs": [
    {
     "name": "stdout",
     "output_type": "stream",
     "text": [
      "16\n"
     ]
    }
   ],
   "source": [
    "class Addition:\n",
    "    def __init__(self,a1,a2):\n",
    "        self.a1=a1\n",
    "        self.a2=a2\n",
    "    def add(self):\n",
    "        return self.a1 + self.a2\n",
    "ex=Addition(12,4)\n",
    "print(ex.add())"
   ]
  },
  {
   "cell_type": "code",
   "execution_count": null,
   "id": "143aba08",
   "metadata": {},
   "outputs": [],
   "source": []
  }
 ],
 "metadata": {
  "kernelspec": {
   "display_name": "Python 3",
   "language": "python",
   "name": "python3"
  },
  "language_info": {
   "codemirror_mode": {
    "name": "ipython",
    "version": 3
   },
   "file_extension": ".py",
   "mimetype": "text/x-python",
   "name": "python",
   "nbconvert_exporter": "python",
   "pygments_lexer": "ipython3",
   "version": "3.8.8"
  }
 },
 "nbformat": 4,
 "nbformat_minor": 5
}
