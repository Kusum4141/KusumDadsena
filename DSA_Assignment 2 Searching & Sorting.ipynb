{
 "cells": [
  {
   "cell_type": "markdown",
   "id": "9ab40b6e",
   "metadata": {},
   "source": [
    "# 1. Implement Binary Search"
   ]
  },
  {
   "cell_type": "code",
   "execution_count": 1,
   "id": "5ebee50b",
   "metadata": {},
   "outputs": [],
   "source": [
    "def binary_search(array,item):\n",
    "    start = 0\n",
    "    end = len(array)-1\n",
    "    while start <= end:\n",
    "        mid = (start + end)//2\n",
    "        if array[mid] == item:\n",
    "            return \"Item is present at index {}\".format(mid)\n",
    "        elif item < array[mid]:\n",
    "            end = mid-1\n",
    "        else:\n",
    "            start = mid + 1\n",
    "    return \"Item is not present\""
   ]
  },
  {
   "cell_type": "code",
   "execution_count": 2,
   "id": "fc17679f",
   "metadata": {},
   "outputs": [
    {
     "data": {
      "text/plain": [
       "'Item is not present'"
      ]
     },
     "execution_count": 2,
     "metadata": {},
     "output_type": "execute_result"
    }
   ],
   "source": [
    "Array = [1,3,4,5,7,9,10,15,19,21,25,26,29,35,46,49,50,52]\n",
    "binary_search(Array,6)"
   ]
  },
  {
   "cell_type": "code",
   "execution_count": 3,
   "id": "d01163e9",
   "metadata": {},
   "outputs": [
    {
     "data": {
      "text/plain": [
       "'Item is present at index 6'"
      ]
     },
     "execution_count": 3,
     "metadata": {},
     "output_type": "execute_result"
    }
   ],
   "source": [
    "binary_search(Array,10)"
   ]
  },
  {
   "cell_type": "markdown",
   "id": "95784f4c",
   "metadata": {},
   "source": [
    "# 2. Implement Merge Sort"
   ]
  },
  {
   "cell_type": "code",
   "execution_count": 4,
   "id": "3a627e36",
   "metadata": {},
   "outputs": [],
   "source": [
    "def mergesort(array):\n",
    "    if len(array)>1:\n",
    "        mid = len(array)//2\n",
    "        left = array[:mid]\n",
    "        right = array[mid:]\n",
    "        mergesort(left)\n",
    "        mergesort(right)\n",
    "        i = 0\n",
    "        j = 0\n",
    "        k = 0\n",
    "        while i < len(left) and j < len(right):\n",
    "            if left[i] <= right[j]:\n",
    "                array[k] = left[i]\n",
    "                i += 1\n",
    "            else:\n",
    "                array[k] = right[j]\n",
    "                j +=1\n",
    "            k +=1\n",
    "        while i < len(left):\n",
    "            array[k] = left[i]\n",
    "            i += 1\n",
    "            k += 1\n",
    "\n",
    "        while j < len(right):\n",
    "            array[k] = right[j]\n",
    "            j += 1\n",
    "            k += 1"
   ]
  },
  {
   "cell_type": "code",
   "execution_count": 5,
   "id": "543f01e3",
   "metadata": {},
   "outputs": [
    {
     "data": {
      "text/plain": [
       "[1, 10, 12, 12, 14, 20, 32, 32, 41, 42, 45, 50, 52, 78, 78, 98]"
      ]
     },
     "execution_count": 5,
     "metadata": {},
     "output_type": "execute_result"
    }
   ],
   "source": [
    "Array2 = [50,42,78,41,20,32,12,1,78,45,12,98,52,10,32,14]\n",
    "mergesort(Array2)\n",
    "Array2"
   ]
  },
  {
   "cell_type": "markdown",
   "id": "a45cdafa",
   "metadata": {},
   "source": [
    "# 3. Implement Quick Sort"
   ]
  },
  {
   "cell_type": "code",
   "execution_count": 6,
   "id": "17cae98a",
   "metadata": {},
   "outputs": [],
   "source": [
    "def partition(array, start ,end):\n",
    "    pivot = array[start]\n",
    "    low = start + 1\n",
    "    high = end\n",
    "    while True:\n",
    "        while low <= high and array[high] >= pivot:\n",
    "            high = high - 1\n",
    "        while low <= high and array[low] <= pivot:\n",
    "            low = low + 1\n",
    "        if low <= high:\n",
    "            array[low],array[high] = array[high],array[low]\n",
    "        else:\n",
    "            break\n",
    "    array[start],array[high] = array[high],array[start]\n",
    "    return high\n",
    "\n",
    "\n",
    "def quick_sort(array,start,end):\n",
    "    if start >= end:\n",
    "        return\n",
    "    \n",
    "    p = partition(array,start,end)\n",
    "    quick_sort(array,start,p-1)\n",
    "    quick_sort(array,p+1,end)"
   ]
  },
  {
   "cell_type": "code",
   "execution_count": 7,
   "id": "15bb3d50",
   "metadata": {},
   "outputs": [
    {
     "data": {
      "text/plain": [
       "[1, 3, 7, 10, 10, 14, 14, 15, 17, 21, 23, 25, 52, 54, 78, 90, 96]"
      ]
     },
     "execution_count": 7,
     "metadata": {},
     "output_type": "execute_result"
    }
   ],
   "source": [
    "Array3 = [14,17,90,21,3,54,78,96,14,52,10,23,25,7,1,10,15]\n",
    "quick_sort(Array3,0,len(Array3)-1)\n",
    "Array3"
   ]
  },
  {
   "cell_type": "markdown",
   "id": "a5633068",
   "metadata": {},
   "source": [
    "# 4. Implement Insertion Sort"
   ]
  },
  {
   "cell_type": "code",
   "execution_count": 8,
   "id": "c67285fc",
   "metadata": {},
   "outputs": [],
   "source": [
    "def insertionSort(arr):\n",
    "    for i in range(1, len(arr)):\n",
    "        key = arr[i]\n",
    "        j = i-1\n",
    "        while j >=0 and key < arr[j] :\n",
    "                arr[j+1] = arr[j]\n",
    "                j -= 1\n",
    "        arr[j+1] = key\n",
    "        "
   ]
  },
  {
   "cell_type": "code",
   "execution_count": 9,
   "id": "2eee86fd",
   "metadata": {},
   "outputs": [
    {
     "data": {
      "text/plain": [
       "[2, 10, 14, 15, 25, 36, 36, 47, 51, 58, 59, 74, 74, 95]"
      ]
     },
     "execution_count": 9,
     "metadata": {},
     "output_type": "execute_result"
    }
   ],
   "source": [
    "Array4 = [15,14,74,51,2,36,58,95,74,10,25,47,59,36]\n",
    "insertionSort(Array4)\n",
    "Array4"
   ]
  },
  {
   "cell_type": "markdown",
   "id": "25fd55ed",
   "metadata": {},
   "source": [
    "# 5. Write a program to sort list of strings (similar to that of dictionary)"
   ]
  },
  {
   "cell_type": "code",
   "execution_count": 10,
   "id": "8657b4aa",
   "metadata": {},
   "outputs": [
    {
     "data": {
      "text/plain": [
       "['are', 'hello', 'how', 'world', 'you']"
      ]
     },
     "execution_count": 10,
     "metadata": {},
     "output_type": "execute_result"
    }
   ],
   "source": [
    "list_of_strings = ['hello','world','how','are','you']\n",
    "sorted(list_of_strings)"
   ]
  },
  {
   "cell_type": "code",
   "execution_count": null,
   "id": "274dce54",
   "metadata": {},
   "outputs": [],
   "source": []
  }
 ],
 "metadata": {
  "kernelspec": {
   "display_name": "Python 3 (ipykernel)",
   "language": "python",
   "name": "python3"
  },
  "language_info": {
   "codemirror_mode": {
    "name": "ipython",
    "version": 3
   },
   "file_extension": ".py",
   "mimetype": "text/x-python",
   "name": "python",
   "nbconvert_exporter": "python",
   "pygments_lexer": "ipython3",
   "version": "3.9.7"
  }
 },
 "nbformat": 4,
 "nbformat_minor": 5
}
