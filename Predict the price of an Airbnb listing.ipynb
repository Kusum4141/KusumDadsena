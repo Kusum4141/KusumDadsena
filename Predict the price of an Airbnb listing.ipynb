{
 "cells": [
  {
   "cell_type": "code",
   "execution_count": 1,
   "id": "a486eb85",
   "metadata": {},
   "outputs": [
    {
     "name": "stdout",
     "output_type": "stream",
     "text": [
      "Defaulting to user installation because normal site-packages is not writeable"
     ]
    },
    {
     "name": "stderr",
     "output_type": "stream",
     "text": [
      "WARNING: You are using pip version 21.3.1; however, version 22.0.3 is available."
     ]
    },
    {
     "name": "stdout",
     "output_type": "stream",
     "text": [
      "\n",
      "Collecting catboost\n",
      "  Downloading catboost-1.0.4-cp39-none-win_amd64.whl (73.5 MB)\n",
      "Requirement already satisfied: matplotlib in c:\\users\\admin\\appdata\\roaming\\python\\python39\\site-packages (from catboost) (3.5.1)\n",
      "Collecting graphviz\n",
      "  Downloading graphviz-0.19.1-py3-none-any.whl (46 kB)\n",
      "Requirement already satisfied: scipy in c:\\users\\admin\\appdata\\roaming\\python\\python39\\site-packages (from catboost) (1.7.3)\n",
      "Collecting plotly\n",
      "  Downloading plotly-5.5.0-py2.py3-none-any.whl (26.5 MB)\n",
      "Requirement already satisfied: six in c:\\users\\admin\\appdata\\roaming\\python\\python39\\site-packages (from catboost) (1.16.0)\n",
      "Requirement already satisfied: pandas>=0.24.0 in c:\\users\\admin\\appdata\\roaming\\python\\python39\\site-packages (from catboost) (1.3.5)\n",
      "Requirement already satisfied: numpy>=1.16.0 in c:\\users\\admin\\appdata\\roaming\\python\\python39\\site-packages (from catboost) (1.21.2)\n",
      "Requirement already satisfied: python-dateutil>=2.7.3 in c:\\users\\admin\\appdata\\roaming\\python\\python39\\site-packages (from pandas>=0.24.0->catboost) (2.8.2)\n",
      "Requirement already satisfied: pytz>=2017.3 in c:\\users\\admin\\appdata\\roaming\\python\\python39\\site-packages (from pandas>=0.24.0->catboost) (2021.3)\n",
      "Requirement already satisfied: pillow>=6.2.0 in c:\\users\\admin\\appdata\\roaming\\python\\python39\\site-packages (from matplotlib->catboost) (8.3.2)\n",
      "Requirement already satisfied: cycler>=0.10 in c:\\users\\admin\\appdata\\roaming\\python\\python39\\site-packages (from matplotlib->catboost) (0.11.0)\n",
      "Requirement already satisfied: pyparsing>=2.2.1 in c:\\users\\admin\\appdata\\roaming\\python\\python39\\site-packages (from matplotlib->catboost) (2.4.7)\n",
      "Requirement already satisfied: packaging>=20.0 in c:\\users\\admin\\appdata\\roaming\\python\\python39\\site-packages (from matplotlib->catboost) (21.0)\n",
      "Requirement already satisfied: kiwisolver>=1.0.1 in c:\\users\\admin\\appdata\\roaming\\python\\python39\\site-packages (from matplotlib->catboost) (1.3.2)\n",
      "Requirement already satisfied: fonttools>=4.22.0 in c:\\users\\admin\\appdata\\roaming\\python\\python39\\site-packages (from matplotlib->catboost) (4.28.5)\n",
      "Collecting tenacity>=6.2.0\n",
      "  Downloading tenacity-8.0.1-py3-none-any.whl (24 kB)\n",
      "Installing collected packages: tenacity, plotly, graphviz, catboost\n",
      "Successfully installed catboost-1.0.4 graphviz-0.19.1 plotly-5.5.0 tenacity-8.0.1\n"
     ]
    },
    {
     "name": "stderr",
     "output_type": "stream",
     "text": [
      "\n",
      "You should consider upgrading via the 'C:\\Program Files\\Python39\\python.exe -m pip install --upgrade pip' command.\n"
     ]
    }
   ],
   "source": [
    "!pip install catboost"
   ]
  },
  {
   "cell_type": "code",
   "execution_count": 3,
   "id": "2e0494d3",
   "metadata": {},
   "outputs": [],
   "source": [
    "import numpy as np\n",
    "import pandas as pd\n",
    "\n",
    "#import libraries for visualization\n",
    "import matplotlib.pyplot as plt\n",
    "import seaborn as sns\n",
    "%matplotlib inline\n",
    "pd.options.display.max_columns = 100\n",
    "# libraries for machine learning\n",
    "from sklearn.model_selection import train_test_split \n",
    "from sklearn.metrics import mean_absolute_error\n",
    "from sklearn.metrics import mean_squared_error\n",
    "from sklearn.metrics import r2_score"
   ]
  },
  {
   "cell_type": "code",
   "execution_count": 4,
   "id": "4a838c4e",
   "metadata": {},
   "outputs": [],
   "source": [
    "amsterdam_airbnb = pd.read_csv('airbnb_listing_train.csv')"
   ]
  },
  {
   "cell_type": "code",
   "execution_count": 31,
   "id": "a8ce4e62",
   "metadata": {},
   "outputs": [],
   "source": [
    "amsterdam_airbnb = pd.read_csv('airbnb_listing_validate.csv')"
   ]
  },
  {
   "cell_type": "code",
   "execution_count": 5,
   "id": "9f1bd59c",
   "metadata": {},
   "outputs": [
    {
     "data": {
      "text/plain": [
       "Index(['id', 'name', 'host_id', 'host_name', 'neighbourhood_group',\n",
       "       'neighbourhood', 'latitude', 'longitude', 'room_type', 'minimum_nights',\n",
       "       'number_of_reviews', 'last_review', 'reviews_per_month',\n",
       "       'calculated_host_listings_count', 'availability_365', 'price'],\n",
       "      dtype='object')"
      ]
     },
     "execution_count": 5,
     "metadata": {},
     "output_type": "execute_result"
    }
   ],
   "source": [
    "amsterdam_airbnb.columns"
   ]
  },
  {
   "cell_type": "code",
   "execution_count": 6,
   "id": "4fad4e1d",
   "metadata": {},
   "outputs": [
    {
     "name": "stdout",
     "output_type": "stream",
     "text": [
      "<class 'pandas.core.frame.DataFrame'>\n",
      "RangeIndex: 12901 entries, 0 to 12900\n",
      "Data columns (total 16 columns):\n",
      " #   Column                          Non-Null Count  Dtype  \n",
      "---  ------                          --------------  -----  \n",
      " 0   id                              12901 non-null  int64  \n",
      " 1   name                            12879 non-null  object \n",
      " 2   host_id                         12901 non-null  int64  \n",
      " 3   host_name                       12893 non-null  object \n",
      " 4   neighbourhood_group             0 non-null      float64\n",
      " 5   neighbourhood                   12901 non-null  object \n",
      " 6   latitude                        12901 non-null  float64\n",
      " 7   longitude                       12901 non-null  float64\n",
      " 8   room_type                       12901 non-null  object \n",
      " 9   minimum_nights                  12901 non-null  int64  \n",
      " 10  number_of_reviews               12901 non-null  int64  \n",
      " 11  last_review                     11305 non-null  object \n",
      " 12  reviews_per_month               11305 non-null  float64\n",
      " 13  calculated_host_listings_count  12901 non-null  int64  \n",
      " 14  availability_365                12901 non-null  int64  \n",
      " 15  price                           12901 non-null  int64  \n",
      "dtypes: float64(4), int64(7), object(5)\n",
      "memory usage: 1.6+ MB\n"
     ]
    }
   ],
   "source": [
    "amsterdam_airbnb.info()"
   ]
  },
  {
   "cell_type": "code",
   "execution_count": 7,
   "id": "d23e681b",
   "metadata": {},
   "outputs": [
    {
     "data": {
      "text/html": [
       "<div>\n",
       "<style scoped>\n",
       "    .dataframe tbody tr th:only-of-type {\n",
       "        vertical-align: middle;\n",
       "    }\n",
       "\n",
       "    .dataframe tbody tr th {\n",
       "        vertical-align: top;\n",
       "    }\n",
       "\n",
       "    .dataframe thead th {\n",
       "        text-align: right;\n",
       "    }\n",
       "</style>\n",
       "<table border=\"1\" class=\"dataframe\">\n",
       "  <thead>\n",
       "    <tr style=\"text-align: right;\">\n",
       "      <th></th>\n",
       "      <th>id</th>\n",
       "      <th>name</th>\n",
       "      <th>host_id</th>\n",
       "      <th>host_name</th>\n",
       "      <th>neighbourhood_group</th>\n",
       "      <th>neighbourhood</th>\n",
       "      <th>latitude</th>\n",
       "      <th>longitude</th>\n",
       "      <th>room_type</th>\n",
       "      <th>minimum_nights</th>\n",
       "      <th>number_of_reviews</th>\n",
       "      <th>last_review</th>\n",
       "      <th>reviews_per_month</th>\n",
       "      <th>calculated_host_listings_count</th>\n",
       "      <th>availability_365</th>\n",
       "      <th>price</th>\n",
       "    </tr>\n",
       "  </thead>\n",
       "  <tbody>\n",
       "    <tr>\n",
       "      <th>0</th>\n",
       "      <td>11602914</td>\n",
       "      <td>Luxury home 100m2+garden in center!</td>\n",
       "      <td>3123809</td>\n",
       "      <td>Marjolein</td>\n",
       "      <td>NaN</td>\n",
       "      <td>De Pijp - Rivierenbuurt</td>\n",
       "      <td>52.35368</td>\n",
       "      <td>4.90177</td>\n",
       "      <td>Entire home/apt</td>\n",
       "      <td>3</td>\n",
       "      <td>13</td>\n",
       "      <td>15-02-2020</td>\n",
       "      <td>0.27</td>\n",
       "      <td>1</td>\n",
       "      <td>0</td>\n",
       "      <td>220</td>\n",
       "    </tr>\n",
       "    <tr>\n",
       "      <th>1</th>\n",
       "      <td>13289321</td>\n",
       "      <td>East is where your home is!</td>\n",
       "      <td>10259430</td>\n",
       "      <td>Ana</td>\n",
       "      <td>NaN</td>\n",
       "      <td>Oud-Oost</td>\n",
       "      <td>52.35728</td>\n",
       "      <td>4.92052</td>\n",
       "      <td>Entire home/apt</td>\n",
       "      <td>4</td>\n",
       "      <td>14</td>\n",
       "      <td>19-06-2019</td>\n",
       "      <td>0.29</td>\n",
       "      <td>1</td>\n",
       "      <td>0</td>\n",
       "      <td>110</td>\n",
       "    </tr>\n",
       "    <tr>\n",
       "      <th>2</th>\n",
       "      <td>40779315</td>\n",
       "      <td>Amsterdam Central - LUXURY house in BUSY STREET</td>\n",
       "      <td>224969266</td>\n",
       "      <td>Mark</td>\n",
       "      <td>NaN</td>\n",
       "      <td>Centrum-West</td>\n",
       "      <td>52.37582</td>\n",
       "      <td>4.89850</td>\n",
       "      <td>Entire home/apt</td>\n",
       "      <td>2</td>\n",
       "      <td>9</td>\n",
       "      <td>16-03-2020</td>\n",
       "      <td>1.65</td>\n",
       "      <td>1</td>\n",
       "      <td>7</td>\n",
       "      <td>100</td>\n",
       "    </tr>\n",
       "    <tr>\n",
       "      <th>3</th>\n",
       "      <td>7820311</td>\n",
       "      <td>great appartment down town</td>\n",
       "      <td>693472</td>\n",
       "      <td>Ayden</td>\n",
       "      <td>NaN</td>\n",
       "      <td>Westerpark</td>\n",
       "      <td>52.37792</td>\n",
       "      <td>4.87300</td>\n",
       "      <td>Entire home/apt</td>\n",
       "      <td>3</td>\n",
       "      <td>42</td>\n",
       "      <td>17-02-2020</td>\n",
       "      <td>0.72</td>\n",
       "      <td>1</td>\n",
       "      <td>0</td>\n",
       "      <td>130</td>\n",
       "    </tr>\n",
       "    <tr>\n",
       "      <th>4</th>\n",
       "      <td>27346603</td>\n",
       "      <td>Private room with canal view in peaceful area</td>\n",
       "      <td>41888346</td>\n",
       "      <td>Alissa</td>\n",
       "      <td>NaN</td>\n",
       "      <td>Westerpark</td>\n",
       "      <td>52.38051</td>\n",
       "      <td>4.87493</td>\n",
       "      <td>Private room</td>\n",
       "      <td>2</td>\n",
       "      <td>89</td>\n",
       "      <td>26-02-2020</td>\n",
       "      <td>4.02</td>\n",
       "      <td>1</td>\n",
       "      <td>24</td>\n",
       "      <td>90</td>\n",
       "    </tr>\n",
       "  </tbody>\n",
       "</table>\n",
       "</div>"
      ],
      "text/plain": [
       "         id                                             name    host_id  \\\n",
       "0  11602914              Luxury home 100m2+garden in center!    3123809   \n",
       "1  13289321                      East is where your home is!   10259430   \n",
       "2  40779315  Amsterdam Central - LUXURY house in BUSY STREET  224969266   \n",
       "3   7820311                       great appartment down town     693472   \n",
       "4  27346603    Private room with canal view in peaceful area   41888346   \n",
       "\n",
       "   host_name  neighbourhood_group            neighbourhood  latitude  \\\n",
       "0  Marjolein                  NaN  De Pijp - Rivierenbuurt  52.35368   \n",
       "1        Ana                  NaN                 Oud-Oost  52.35728   \n",
       "2       Mark                  NaN             Centrum-West  52.37582   \n",
       "3      Ayden                  NaN               Westerpark  52.37792   \n",
       "4     Alissa                  NaN               Westerpark  52.38051   \n",
       "\n",
       "   longitude        room_type  minimum_nights  number_of_reviews last_review  \\\n",
       "0    4.90177  Entire home/apt               3                 13  15-02-2020   \n",
       "1    4.92052  Entire home/apt               4                 14  19-06-2019   \n",
       "2    4.89850  Entire home/apt               2                  9  16-03-2020   \n",
       "3    4.87300  Entire home/apt               3                 42  17-02-2020   \n",
       "4    4.87493     Private room               2                 89  26-02-2020   \n",
       "\n",
       "   reviews_per_month  calculated_host_listings_count  availability_365  price  \n",
       "0               0.27                               1                 0    220  \n",
       "1               0.29                               1                 0    110  \n",
       "2               1.65                               1                 7    100  \n",
       "3               0.72                               1                 0    130  \n",
       "4               4.02                               1                24     90  "
      ]
     },
     "execution_count": 7,
     "metadata": {},
     "output_type": "execute_result"
    }
   ],
   "source": [
    "amsterdam_airbnb.head()"
   ]
  },
  {
   "cell_type": "code",
   "execution_count": 8,
   "id": "74dd47ee",
   "metadata": {},
   "outputs": [
    {
     "data": {
      "text/html": [
       "<div>\n",
       "<style scoped>\n",
       "    .dataframe tbody tr th:only-of-type {\n",
       "        vertical-align: middle;\n",
       "    }\n",
       "\n",
       "    .dataframe tbody tr th {\n",
       "        vertical-align: top;\n",
       "    }\n",
       "\n",
       "    .dataframe thead th {\n",
       "        text-align: right;\n",
       "    }\n",
       "</style>\n",
       "<table border=\"1\" class=\"dataframe\">\n",
       "  <thead>\n",
       "    <tr style=\"text-align: right;\">\n",
       "      <th></th>\n",
       "      <th>id</th>\n",
       "      <th>host_id</th>\n",
       "      <th>neighbourhood_group</th>\n",
       "      <th>latitude</th>\n",
       "      <th>longitude</th>\n",
       "      <th>minimum_nights</th>\n",
       "      <th>number_of_reviews</th>\n",
       "      <th>reviews_per_month</th>\n",
       "      <th>calculated_host_listings_count</th>\n",
       "      <th>availability_365</th>\n",
       "      <th>price</th>\n",
       "    </tr>\n",
       "  </thead>\n",
       "  <tbody>\n",
       "    <tr>\n",
       "      <th>count</th>\n",
       "      <td>1.290100e+04</td>\n",
       "      <td>1.290100e+04</td>\n",
       "      <td>0.0</td>\n",
       "      <td>12901.000000</td>\n",
       "      <td>12901.000000</td>\n",
       "      <td>12901.000000</td>\n",
       "      <td>12901.000000</td>\n",
       "      <td>11305.000000</td>\n",
       "      <td>12901.000000</td>\n",
       "      <td>12901.000000</td>\n",
       "      <td>12901.000000</td>\n",
       "    </tr>\n",
       "    <tr>\n",
       "      <th>mean</th>\n",
       "      <td>1.984923e+07</td>\n",
       "      <td>6.321700e+07</td>\n",
       "      <td>NaN</td>\n",
       "      <td>52.365313</td>\n",
       "      <td>4.889744</td>\n",
       "      <td>3.542516</td>\n",
       "      <td>24.803194</td>\n",
       "      <td>0.748501</td>\n",
       "      <td>2.136501</td>\n",
       "      <td>61.392295</td>\n",
       "      <td>166.959538</td>\n",
       "    </tr>\n",
       "    <tr>\n",
       "      <th>std</th>\n",
       "      <td>1.216241e+07</td>\n",
       "      <td>8.010814e+07</td>\n",
       "      <td>NaN</td>\n",
       "      <td>0.016418</td>\n",
       "      <td>0.036016</td>\n",
       "      <td>15.154077</td>\n",
       "      <td>53.406134</td>\n",
       "      <td>1.260791</td>\n",
       "      <td>6.001838</td>\n",
       "      <td>107.988329</td>\n",
       "      <td>234.794630</td>\n",
       "    </tr>\n",
       "    <tr>\n",
       "      <th>min</th>\n",
       "      <td>2.016800e+04</td>\n",
       "      <td>3.592000e+03</td>\n",
       "      <td>NaN</td>\n",
       "      <td>52.289270</td>\n",
       "      <td>4.755720</td>\n",
       "      <td>1.000000</td>\n",
       "      <td>0.000000</td>\n",
       "      <td>0.010000</td>\n",
       "      <td>1.000000</td>\n",
       "      <td>0.000000</td>\n",
       "      <td>6.000000</td>\n",
       "    </tr>\n",
       "    <tr>\n",
       "      <th>25%</th>\n",
       "      <td>9.869642e+06</td>\n",
       "      <td>8.948269e+06</td>\n",
       "      <td>NaN</td>\n",
       "      <td>52.355190</td>\n",
       "      <td>4.863950</td>\n",
       "      <td>2.000000</td>\n",
       "      <td>2.000000</td>\n",
       "      <td>0.180000</td>\n",
       "      <td>1.000000</td>\n",
       "      <td>0.000000</td>\n",
       "      <td>99.000000</td>\n",
       "    </tr>\n",
       "    <tr>\n",
       "      <th>50%</th>\n",
       "      <td>1.874939e+07</td>\n",
       "      <td>2.711601e+07</td>\n",
       "      <td>NaN</td>\n",
       "      <td>52.364570</td>\n",
       "      <td>4.887130</td>\n",
       "      <td>2.000000</td>\n",
       "      <td>9.000000</td>\n",
       "      <td>0.380000</td>\n",
       "      <td>1.000000</td>\n",
       "      <td>0.000000</td>\n",
       "      <td>135.000000</td>\n",
       "    </tr>\n",
       "    <tr>\n",
       "      <th>75%</th>\n",
       "      <td>2.914232e+07</td>\n",
       "      <td>8.337686e+07</td>\n",
       "      <td>NaN</td>\n",
       "      <td>52.375110</td>\n",
       "      <td>4.909310</td>\n",
       "      <td>3.000000</td>\n",
       "      <td>24.000000</td>\n",
       "      <td>0.770000</td>\n",
       "      <td>1.000000</td>\n",
       "      <td>87.000000</td>\n",
       "      <td>190.000000</td>\n",
       "    </tr>\n",
       "    <tr>\n",
       "      <th>max</th>\n",
       "      <td>4.370900e+07</td>\n",
       "      <td>3.490175e+08</td>\n",
       "      <td>NaN</td>\n",
       "      <td>52.425090</td>\n",
       "      <td>5.018400</td>\n",
       "      <td>1001.000000</td>\n",
       "      <td>843.000000</td>\n",
       "      <td>50.000000</td>\n",
       "      <td>78.000000</td>\n",
       "      <td>365.000000</td>\n",
       "      <td>9000.000000</td>\n",
       "    </tr>\n",
       "  </tbody>\n",
       "</table>\n",
       "</div>"
      ],
      "text/plain": [
       "                 id       host_id  neighbourhood_group      latitude  \\\n",
       "count  1.290100e+04  1.290100e+04                  0.0  12901.000000   \n",
       "mean   1.984923e+07  6.321700e+07                  NaN     52.365313   \n",
       "std    1.216241e+07  8.010814e+07                  NaN      0.016418   \n",
       "min    2.016800e+04  3.592000e+03                  NaN     52.289270   \n",
       "25%    9.869642e+06  8.948269e+06                  NaN     52.355190   \n",
       "50%    1.874939e+07  2.711601e+07                  NaN     52.364570   \n",
       "75%    2.914232e+07  8.337686e+07                  NaN     52.375110   \n",
       "max    4.370900e+07  3.490175e+08                  NaN     52.425090   \n",
       "\n",
       "          longitude  minimum_nights  number_of_reviews  reviews_per_month  \\\n",
       "count  12901.000000    12901.000000       12901.000000       11305.000000   \n",
       "mean       4.889744        3.542516          24.803194           0.748501   \n",
       "std        0.036016       15.154077          53.406134           1.260791   \n",
       "min        4.755720        1.000000           0.000000           0.010000   \n",
       "25%        4.863950        2.000000           2.000000           0.180000   \n",
       "50%        4.887130        2.000000           9.000000           0.380000   \n",
       "75%        4.909310        3.000000          24.000000           0.770000   \n",
       "max        5.018400     1001.000000         843.000000          50.000000   \n",
       "\n",
       "       calculated_host_listings_count  availability_365         price  \n",
       "count                    12901.000000      12901.000000  12901.000000  \n",
       "mean                         2.136501         61.392295    166.959538  \n",
       "std                          6.001838        107.988329    234.794630  \n",
       "min                          1.000000          0.000000      6.000000  \n",
       "25%                          1.000000          0.000000     99.000000  \n",
       "50%                          1.000000          0.000000    135.000000  \n",
       "75%                          1.000000         87.000000    190.000000  \n",
       "max                         78.000000        365.000000   9000.000000  "
      ]
     },
     "execution_count": 8,
     "metadata": {},
     "output_type": "execute_result"
    }
   ],
   "source": [
    "amsterdam_airbnb.describe()"
   ]
  },
  {
   "cell_type": "code",
   "execution_count": 9,
   "id": "890f8832",
   "metadata": {},
   "outputs": [
    {
     "data": {
      "text/plain": [
       "id                                    0\n",
       "name                                 22\n",
       "host_id                               0\n",
       "host_name                             8\n",
       "neighbourhood_group               12901\n",
       "neighbourhood                         0\n",
       "latitude                              0\n",
       "longitude                             0\n",
       "room_type                             0\n",
       "minimum_nights                        0\n",
       "number_of_reviews                     0\n",
       "last_review                        1596\n",
       "reviews_per_month                  1596\n",
       "calculated_host_listings_count        0\n",
       "availability_365                      0\n",
       "price                                 0\n",
       "dtype: int64"
      ]
     },
     "execution_count": 9,
     "metadata": {},
     "output_type": "execute_result"
    }
   ],
   "source": [
    "amsterdam_airbnb.isnull().sum()"
   ]
  },
  {
   "cell_type": "code",
   "execution_count": 10,
   "id": "c805782e",
   "metadata": {},
   "outputs": [],
   "source": [
    "#dropping name and host_name as we have id and host_id\n",
    "#dropping neighbourhood_group as entire column has missing value\n",
    "amsterdam_airbnb.drop(['name','host_name','neighbourhood_group'], axis=1, inplace =True)"
   ]
  },
  {
   "cell_type": "code",
   "execution_count": 11,
   "id": "94384ed9",
   "metadata": {},
   "outputs": [],
   "source": [
    "#dropping last_review and reviews_per_month as we have number_of_reviews which is more relevant compare to previous two columns\n",
    "amsterdam_airbnb.drop(['last_review','reviews_per_month'], axis=1, inplace =True)"
   ]
  },
  {
   "cell_type": "code",
   "execution_count": 12,
   "id": "f4cea085",
   "metadata": {},
   "outputs": [],
   "source": [
    "#convert to category dtype\n",
    "amsterdam_airbnb['neighbourhood'] = amsterdam_airbnb['neighbourhood'].astype('category')"
   ]
  },
  {
   "cell_type": "code",
   "execution_count": 13,
   "id": "8267eb6a",
   "metadata": {},
   "outputs": [],
   "source": [
    "#use .cat.codes to create new colums with encoded value\n",
    "amsterdam_airbnb['neighbourhood'] = amsterdam_airbnb['neighbourhood'].cat.codes"
   ]
  },
  {
   "cell_type": "code",
   "execution_count": 14,
   "id": "17a4ad63",
   "metadata": {},
   "outputs": [
    {
     "data": {
      "text/plain": [
       "7     2209\n",
       "8     1600\n",
       "5     1429\n",
       "4     1097\n",
       "20     958\n",
       "21     924\n",
       "17     831\n",
       "2      730\n",
       "14     644\n",
       "19     381\n",
       "16     376\n",
       "11     321\n",
       "18     269\n",
       "13     257\n",
       "12     171\n",
       "3      155\n",
       "10     144\n",
       "6       88\n",
       "15      83\n",
       "9       80\n",
       "0       78\n",
       "1       76\n",
       "Name: neighbourhood, dtype: int64"
      ]
     },
     "execution_count": 14,
     "metadata": {},
     "output_type": "execute_result"
    }
   ],
   "source": [
    "amsterdam_airbnb['neighbourhood'].value_counts()"
   ]
  },
  {
   "cell_type": "code",
   "execution_count": 15,
   "id": "2b9c3fb1",
   "metadata": {},
   "outputs": [
    {
     "data": {
      "text/plain": [
       "Entire home/apt    10064\n",
       "Private room        2622\n",
       "Hotel room           174\n",
       "Shared room           41\n",
       "Name: room_type, dtype: int64"
      ]
     },
     "execution_count": 15,
     "metadata": {},
     "output_type": "execute_result"
    }
   ],
   "source": [
    "amsterdam_airbnb['room_type'].value_counts()"
   ]
  },
  {
   "cell_type": "code",
   "execution_count": 16,
   "id": "331bb9e4",
   "metadata": {},
   "outputs": [],
   "source": [
    "#convert categorical variable into dummy/indicator variables for ML\n",
    "amsterdam_airbnb = pd.get_dummies(amsterdam_airbnb, columns=['room_type'])"
   ]
  },
  {
   "cell_type": "code",
   "execution_count": 17,
   "id": "6b687de2",
   "metadata": {},
   "outputs": [],
   "source": [
    "#Convert longitude and latitude into cartesian coordinates. Assume the earth as sphere not ellipsoid\n",
    "R = 6371000 #Approximate mean radius of earth (in m)\n",
    " #lons and lats must be in radians\n",
    "lon,lat = map(np.radians, [amsterdam_airbnb['longitude'], amsterdam_airbnb['latitude']])\n",
    "\n",
    "# 'Single-point' Haversine formula\n",
    "a = np.sin(lat/2)**2 + np.cos(lat) * np.sin(lon/2)**2\n",
    "distance = 2 * R * np.arcsin(np.sqrt(a))\n",
    "\n",
    "#creating new column distance and dropping longitude and latitude column\n",
    "amsterdam_airbnb['distance'] = distance\n",
    "amsterdam_airbnb.drop(['latitude', 'longitude'], axis = 1, inplace = True)"
   ]
  },
  {
   "cell_type": "code",
   "execution_count": 18,
   "id": "5b273a0f",
   "metadata": {},
   "outputs": [
    {
     "data": {
      "text/plain": [
       "Index(['id', 'host_id', 'neighbourhood', 'minimum_nights', 'number_of_reviews',\n",
       "       'calculated_host_listings_count', 'availability_365', 'price',\n",
       "       'room_type_Entire home/apt', 'room_type_Hotel room',\n",
       "       'room_type_Private room', 'room_type_Shared room', 'distance'],\n",
       "      dtype='object')"
      ]
     },
     "execution_count": 18,
     "metadata": {},
     "output_type": "execute_result"
    }
   ],
   "source": [
    "amsterdam_airbnb.columns"
   ]
  },
  {
   "cell_type": "code",
   "execution_count": 19,
   "id": "3997ed0c",
   "metadata": {},
   "outputs": [
    {
     "data": {
      "text/plain": [
       "id                                  int64\n",
       "host_id                             int64\n",
       "neighbourhood                        int8\n",
       "minimum_nights                      int64\n",
       "number_of_reviews                   int64\n",
       "calculated_host_listings_count      int64\n",
       "availability_365                    int64\n",
       "price                               int64\n",
       "room_type_Entire home/apt           uint8\n",
       "room_type_Hotel room                uint8\n",
       "room_type_Private room              uint8\n",
       "room_type_Shared room               uint8\n",
       "distance                          float64\n",
       "dtype: object"
      ]
     },
     "execution_count": 19,
     "metadata": {},
     "output_type": "execute_result"
    }
   ],
   "source": [
    "amsterdam_airbnb.dtypes"
   ]
  },
  {
   "cell_type": "code",
   "execution_count": 20,
   "id": "da17af23",
   "metadata": {},
   "outputs": [
    {
     "name": "stdout",
     "output_type": "stream",
     "text": [
      "<class 'pandas.core.frame.DataFrame'>\n",
      "RangeIndex: 12901 entries, 0 to 12900\n",
      "Data columns (total 13 columns):\n",
      " #   Column                          Non-Null Count  Dtype  \n",
      "---  ------                          --------------  -----  \n",
      " 0   id                              12901 non-null  int64  \n",
      " 1   host_id                         12901 non-null  int64  \n",
      " 2   neighbourhood                   12901 non-null  int8   \n",
      " 3   minimum_nights                  12901 non-null  int64  \n",
      " 4   number_of_reviews               12901 non-null  int64  \n",
      " 5   calculated_host_listings_count  12901 non-null  int64  \n",
      " 6   availability_365                12901 non-null  int64  \n",
      " 7   price                           12901 non-null  int64  \n",
      " 8   room_type_Entire home/apt       12901 non-null  uint8  \n",
      " 9   room_type_Hotel room            12901 non-null  uint8  \n",
      " 10  room_type_Private room          12901 non-null  uint8  \n",
      " 11  room_type_Shared room           12901 non-null  uint8  \n",
      " 12  distance                        12901 non-null  float64\n",
      "dtypes: float64(1), int64(7), int8(1), uint8(4)\n",
      "memory usage: 869.4 KB\n"
     ]
    }
   ],
   "source": [
    "amsterdam_airbnb.info()"
   ]
  },
  {
   "cell_type": "code",
   "execution_count": 21,
   "id": "2df5a5c3",
   "metadata": {},
   "outputs": [
    {
     "data": {
      "text/html": [
       "<div>\n",
       "<style scoped>\n",
       "    .dataframe tbody tr th:only-of-type {\n",
       "        vertical-align: middle;\n",
       "    }\n",
       "\n",
       "    .dataframe tbody tr th {\n",
       "        vertical-align: top;\n",
       "    }\n",
       "\n",
       "    .dataframe thead th {\n",
       "        text-align: right;\n",
       "    }\n",
       "</style>\n",
       "<table border=\"1\" class=\"dataframe\">\n",
       "  <thead>\n",
       "    <tr style=\"text-align: right;\">\n",
       "      <th></th>\n",
       "      <th>id</th>\n",
       "      <th>host_id</th>\n",
       "      <th>neighbourhood</th>\n",
       "      <th>minimum_nights</th>\n",
       "      <th>number_of_reviews</th>\n",
       "      <th>calculated_host_listings_count</th>\n",
       "      <th>availability_365</th>\n",
       "      <th>room_type_Entire home/apt</th>\n",
       "      <th>room_type_Hotel room</th>\n",
       "      <th>room_type_Private room</th>\n",
       "      <th>room_type_Shared room</th>\n",
       "      <th>distance</th>\n",
       "    </tr>\n",
       "    <tr>\n",
       "      <th>price</th>\n",
       "      <th></th>\n",
       "      <th></th>\n",
       "      <th></th>\n",
       "      <th></th>\n",
       "      <th></th>\n",
       "      <th></th>\n",
       "      <th></th>\n",
       "      <th></th>\n",
       "      <th></th>\n",
       "      <th></th>\n",
       "      <th></th>\n",
       "      <th></th>\n",
       "    </tr>\n",
       "  </thead>\n",
       "  <tbody>\n",
       "    <tr>\n",
       "      <th>6</th>\n",
       "      <td>6764212.00</td>\n",
       "      <td>2.793078e+06</td>\n",
       "      <td>8.00</td>\n",
       "      <td>2.000</td>\n",
       "      <td>14.000</td>\n",
       "      <td>1.000</td>\n",
       "      <td>0.000</td>\n",
       "      <td>1.000</td>\n",
       "      <td>0.000</td>\n",
       "      <td>0.00</td>\n",
       "      <td>0.0</td>\n",
       "      <td>5.839451e+06</td>\n",
       "    </tr>\n",
       "    <tr>\n",
       "      <th>10</th>\n",
       "      <td>40588320.00</td>\n",
       "      <td>3.138391e+08</td>\n",
       "      <td>16.00</td>\n",
       "      <td>1.000</td>\n",
       "      <td>5.000</td>\n",
       "      <td>1.000</td>\n",
       "      <td>195.000</td>\n",
       "      <td>0.000</td>\n",
       "      <td>0.000</td>\n",
       "      <td>1.00</td>\n",
       "      <td>0.0</td>\n",
       "      <td>5.843177e+06</td>\n",
       "    </tr>\n",
       "    <tr>\n",
       "      <th>12</th>\n",
       "      <td>4009850.00</td>\n",
       "      <td>1.351304e+06</td>\n",
       "      <td>16.00</td>\n",
       "      <td>2.000</td>\n",
       "      <td>11.000</td>\n",
       "      <td>1.000</td>\n",
       "      <td>0.000</td>\n",
       "      <td>1.000</td>\n",
       "      <td>0.000</td>\n",
       "      <td>0.00</td>\n",
       "      <td>0.0</td>\n",
       "      <td>5.842758e+06</td>\n",
       "    </tr>\n",
       "    <tr>\n",
       "      <th>19</th>\n",
       "      <td>11147683.00</td>\n",
       "      <td>3.420389e+07</td>\n",
       "      <td>2.00</td>\n",
       "      <td>6.000</td>\n",
       "      <td>4.000</td>\n",
       "      <td>1.000</td>\n",
       "      <td>0.000</td>\n",
       "      <td>0.000</td>\n",
       "      <td>0.000</td>\n",
       "      <td>1.00</td>\n",
       "      <td>0.0</td>\n",
       "      <td>5.841070e+06</td>\n",
       "    </tr>\n",
       "    <tr>\n",
       "      <th>20</th>\n",
       "      <td>27910574.75</td>\n",
       "      <td>1.902505e+08</td>\n",
       "      <td>13.25</td>\n",
       "      <td>7.125</td>\n",
       "      <td>16.625</td>\n",
       "      <td>7.875</td>\n",
       "      <td>311.125</td>\n",
       "      <td>0.125</td>\n",
       "      <td>0.625</td>\n",
       "      <td>0.25</td>\n",
       "      <td>0.0</td>\n",
       "      <td>5.841855e+06</td>\n",
       "    </tr>\n",
       "    <tr>\n",
       "      <th>...</th>\n",
       "      <td>...</td>\n",
       "      <td>...</td>\n",
       "      <td>...</td>\n",
       "      <td>...</td>\n",
       "      <td>...</td>\n",
       "      <td>...</td>\n",
       "      <td>...</td>\n",
       "      <td>...</td>\n",
       "      <td>...</td>\n",
       "      <td>...</td>\n",
       "      <td>...</td>\n",
       "      <td>...</td>\n",
       "    </tr>\n",
       "    <tr>\n",
       "      <th>5555</th>\n",
       "      <td>32355945.00</td>\n",
       "      <td>1.464510e+06</td>\n",
       "      <td>17.00</td>\n",
       "      <td>1.000</td>\n",
       "      <td>2.000</td>\n",
       "      <td>78.000</td>\n",
       "      <td>0.000</td>\n",
       "      <td>1.000</td>\n",
       "      <td>0.000</td>\n",
       "      <td>0.00</td>\n",
       "      <td>0.0</td>\n",
       "      <td>5.840046e+06</td>\n",
       "    </tr>\n",
       "    <tr>\n",
       "      <th>6477</th>\n",
       "      <td>43121886.00</td>\n",
       "      <td>3.186499e+08</td>\n",
       "      <td>4.00</td>\n",
       "      <td>1.000</td>\n",
       "      <td>0.000</td>\n",
       "      <td>6.000</td>\n",
       "      <td>343.000</td>\n",
       "      <td>0.000</td>\n",
       "      <td>0.000</td>\n",
       "      <td>1.00</td>\n",
       "      <td>0.0</td>\n",
       "      <td>5.841218e+06</td>\n",
       "    </tr>\n",
       "    <tr>\n",
       "      <th>7000</th>\n",
       "      <td>41911423.75</td>\n",
       "      <td>3.166810e+08</td>\n",
       "      <td>5.00</td>\n",
       "      <td>1.000</td>\n",
       "      <td>0.000</td>\n",
       "      <td>5.000</td>\n",
       "      <td>364.750</td>\n",
       "      <td>0.000</td>\n",
       "      <td>0.000</td>\n",
       "      <td>1.00</td>\n",
       "      <td>0.0</td>\n",
       "      <td>5.841170e+06</td>\n",
       "    </tr>\n",
       "    <tr>\n",
       "      <th>7550</th>\n",
       "      <td>33842636.00</td>\n",
       "      <td>3.842541e+07</td>\n",
       "      <td>4.00</td>\n",
       "      <td>2.000</td>\n",
       "      <td>0.000</td>\n",
       "      <td>1.000</td>\n",
       "      <td>89.000</td>\n",
       "      <td>0.000</td>\n",
       "      <td>0.000</td>\n",
       "      <td>1.00</td>\n",
       "      <td>0.0</td>\n",
       "      <td>5.840936e+06</td>\n",
       "    </tr>\n",
       "    <tr>\n",
       "      <th>9000</th>\n",
       "      <td>290701.00</td>\n",
       "      <td>1.491565e+06</td>\n",
       "      <td>5.00</td>\n",
       "      <td>3.000</td>\n",
       "      <td>317.000</td>\n",
       "      <td>2.000</td>\n",
       "      <td>310.000</td>\n",
       "      <td>0.000</td>\n",
       "      <td>0.000</td>\n",
       "      <td>1.00</td>\n",
       "      <td>0.0</td>\n",
       "      <td>5.841830e+06</td>\n",
       "    </tr>\n",
       "  </tbody>\n",
       "</table>\n",
       "<p>400 rows × 12 columns</p>\n",
       "</div>"
      ],
      "text/plain": [
       "                id       host_id  neighbourhood  minimum_nights  \\\n",
       "price                                                             \n",
       "6       6764212.00  2.793078e+06           8.00           2.000   \n",
       "10     40588320.00  3.138391e+08          16.00           1.000   \n",
       "12      4009850.00  1.351304e+06          16.00           2.000   \n",
       "19     11147683.00  3.420389e+07           2.00           6.000   \n",
       "20     27910574.75  1.902505e+08          13.25           7.125   \n",
       "...            ...           ...            ...             ...   \n",
       "5555   32355945.00  1.464510e+06          17.00           1.000   \n",
       "6477   43121886.00  3.186499e+08           4.00           1.000   \n",
       "7000   41911423.75  3.166810e+08           5.00           1.000   \n",
       "7550   33842636.00  3.842541e+07           4.00           2.000   \n",
       "9000     290701.00  1.491565e+06           5.00           3.000   \n",
       "\n",
       "       number_of_reviews  calculated_host_listings_count  availability_365  \\\n",
       "price                                                                        \n",
       "6                 14.000                           1.000             0.000   \n",
       "10                 5.000                           1.000           195.000   \n",
       "12                11.000                           1.000             0.000   \n",
       "19                 4.000                           1.000             0.000   \n",
       "20                16.625                           7.875           311.125   \n",
       "...                  ...                             ...               ...   \n",
       "5555               2.000                          78.000             0.000   \n",
       "6477               0.000                           6.000           343.000   \n",
       "7000               0.000                           5.000           364.750   \n",
       "7550               0.000                           1.000            89.000   \n",
       "9000             317.000                           2.000           310.000   \n",
       "\n",
       "       room_type_Entire home/apt  room_type_Hotel room  \\\n",
       "price                                                    \n",
       "6                          1.000                 0.000   \n",
       "10                         0.000                 0.000   \n",
       "12                         1.000                 0.000   \n",
       "19                         0.000                 0.000   \n",
       "20                         0.125                 0.625   \n",
       "...                          ...                   ...   \n",
       "5555                       1.000                 0.000   \n",
       "6477                       0.000                 0.000   \n",
       "7000                       0.000                 0.000   \n",
       "7550                       0.000                 0.000   \n",
       "9000                       0.000                 0.000   \n",
       "\n",
       "       room_type_Private room  room_type_Shared room      distance  \n",
       "price                                                               \n",
       "6                        0.00                    0.0  5.839451e+06  \n",
       "10                       1.00                    0.0  5.843177e+06  \n",
       "12                       0.00                    0.0  5.842758e+06  \n",
       "19                       1.00                    0.0  5.841070e+06  \n",
       "20                       0.25                    0.0  5.841855e+06  \n",
       "...                       ...                    ...           ...  \n",
       "5555                     0.00                    0.0  5.840046e+06  \n",
       "6477                     1.00                    0.0  5.841218e+06  \n",
       "7000                     1.00                    0.0  5.841170e+06  \n",
       "7550                     1.00                    0.0  5.840936e+06  \n",
       "9000                     1.00                    0.0  5.841830e+06  \n",
       "\n",
       "[400 rows x 12 columns]"
      ]
     },
     "execution_count": 21,
     "metadata": {},
     "output_type": "execute_result"
    }
   ],
   "source": [
    "amsterdam_airbnb.groupby('price').mean()"
   ]
  },
  {
   "cell_type": "code",
   "execution_count": 22,
   "id": "8f0eaada",
   "metadata": {},
   "outputs": [],
   "source": [
    "X = amsterdam_airbnb.drop('price', axis = 1)\n",
    "y = amsterdam_airbnb['price']\n"
   ]
  },
  {
   "cell_type": "code",
   "execution_count": 23,
   "id": "be19858f",
   "metadata": {},
   "outputs": [],
   "source": [
    "X_train, X_test, y_train, y_test = train_test_split(X, y, test_size=0.20, random_state=5)"
   ]
  },
  {
   "cell_type": "code",
   "execution_count": 24,
   "id": "4df804ed",
   "metadata": {},
   "outputs": [],
   "source": [
    "from catboost import CatBoostRegressor\n",
    "from sklearn.model_selection import GridSearchCV"
   ]
  },
  {
   "cell_type": "code",
   "execution_count": 25,
   "id": "12928504",
   "metadata": {},
   "outputs": [
    {
     "name": "stderr",
     "output_type": "stream",
     "text": [
      "C:\\Users\\Admin\\AppData\\Roaming\\Python\\Python39\\site-packages\\sklearn\\model_selection\\_validation.py:372: FitFailedWarning: \n",
      "18 fits failed out of a total of 72.\n",
      "The score on these train-test partitions for these parameters will be set to nan.\n",
      "If these failures are not expected, you can try to debug them by setting error_score='raise'.\n",
      "\n",
      "Below are more details about the failures:\n",
      "--------------------------------------------------------------------------------\n",
      "18 fits failed with the following error:\n",
      "Traceback (most recent call last):\n",
      "  File \"C:\\Users\\Admin\\AppData\\Roaming\\Python\\Python39\\site-packages\\sklearn\\model_selection\\_validation.py\", line 680, in _fit_and_score\n",
      "    estimator.fit(X_train, y_train, **fit_params)\n",
      "  File \"C:\\Users\\Admin\\AppData\\Roaming\\Python\\Python39\\site-packages\\catboost\\core.py\", line 5351, in fit\n",
      "    return self._fit(X, y, cat_features, None, None, None, sample_weight, None, None, None, None, baseline,\n",
      "  File \"C:\\Users\\Admin\\AppData\\Roaming\\Python\\Python39\\site-packages\\catboost\\core.py\", line 2073, in _fit\n",
      "    train_params = self._prepare_train_params(\n",
      "  File \"C:\\Users\\Admin\\AppData\\Roaming\\Python\\Python39\\site-packages\\catboost\\core.py\", line 2005, in _prepare_train_params\n",
      "    _check_train_params(params)\n",
      "  File \"_catboost.pyx\", line 5849, in _catboost._check_train_params\n",
      "  File \"_catboost.pyx\", line 5868, in _catboost._check_train_params\n",
      "_catboost.CatBoostError: C:/Program Files (x86)/Go Agent/pipelines/BuildMaster/catboost.git/catboost/private/libs/options/oblivious_tree_options.cpp:122: Maximum tree depth is 16\n",
      "\n",
      "  warnings.warn(some_fits_failed_message, FitFailedWarning)\n",
      "C:\\Users\\Admin\\AppData\\Roaming\\Python\\Python39\\site-packages\\sklearn\\model_selection\\_search.py:969: UserWarning: One or more of the test scores are non-finite: [0.08802349 0.26727637 0.31133475 0.13293474 0.30881371 0.32758571\n",
      " 0.21224335 0.33840917 0.33601616 0.08713085 0.25527289 0.33011669\n",
      " 0.13146746 0.30974941 0.34797329 0.21160144 0.35493714 0.36130046\n",
      " 0.08529225 0.26527224 0.32852876 0.13163879 0.32183806 0.35383031\n",
      " 0.20994762 0.37024813 0.36554386        nan        nan        nan\n",
      "        nan        nan        nan        nan        nan        nan]\n",
      "  warnings.warn(\n"
     ]
    },
    {
     "name": "stdout",
     "output_type": "stream",
     "text": [
      "0:\tlearn: 244.4382825\ttotal: 220ms\tremaining: 21.8s\n",
      "1:\tlearn: 240.1185145\ttotal: 276ms\tremaining: 13.5s\n",
      "2:\tlearn: 236.1479290\ttotal: 327ms\tremaining: 10.6s\n",
      "3:\tlearn: 231.9562254\ttotal: 377ms\tremaining: 9.04s\n",
      "4:\tlearn: 228.1668169\ttotal: 432ms\tremaining: 8.2s\n",
      "5:\tlearn: 224.2159889\ttotal: 487ms\tremaining: 7.63s\n",
      "6:\tlearn: 220.7483249\ttotal: 540ms\tremaining: 7.17s\n",
      "7:\tlearn: 217.3534504\ttotal: 593ms\tremaining: 6.81s\n",
      "8:\tlearn: 214.1038554\ttotal: 647ms\tremaining: 6.54s\n",
      "9:\tlearn: 211.1783329\ttotal: 707ms\tremaining: 6.36s\n",
      "10:\tlearn: 208.5675474\ttotal: 759ms\tremaining: 6.14s\n",
      "11:\tlearn: 205.9405104\ttotal: 812ms\tremaining: 5.96s\n",
      "12:\tlearn: 203.5350374\ttotal: 867ms\tremaining: 5.8s\n",
      "13:\tlearn: 200.9682453\ttotal: 922ms\tremaining: 5.66s\n",
      "14:\tlearn: 198.8966547\ttotal: 974ms\tremaining: 5.52s\n",
      "15:\tlearn: 196.8866077\ttotal: 1.03s\tremaining: 5.39s\n",
      "16:\tlearn: 194.9877525\ttotal: 1.08s\tremaining: 5.27s\n",
      "17:\tlearn: 193.2770903\ttotal: 1.14s\tremaining: 5.19s\n",
      "18:\tlearn: 191.5196857\ttotal: 1.19s\tremaining: 5.08s\n",
      "19:\tlearn: 189.4254445\ttotal: 1.24s\tremaining: 4.97s\n",
      "20:\tlearn: 187.8923895\ttotal: 1.3s\tremaining: 4.88s\n",
      "21:\tlearn: 186.0052925\ttotal: 1.35s\tremaining: 4.78s\n",
      "22:\tlearn: 184.4503103\ttotal: 1.41s\tremaining: 4.71s\n",
      "23:\tlearn: 182.9774467\ttotal: 1.46s\tremaining: 4.62s\n",
      "24:\tlearn: 181.9308309\ttotal: 1.51s\tremaining: 4.54s\n",
      "25:\tlearn: 180.5699941\ttotal: 1.57s\tremaining: 4.46s\n",
      "26:\tlearn: 179.3176380\ttotal: 1.62s\tremaining: 4.38s\n",
      "27:\tlearn: 177.5165601\ttotal: 1.67s\tremaining: 4.3s\n",
      "28:\tlearn: 175.7948874\ttotal: 1.72s\tremaining: 4.22s\n",
      "29:\tlearn: 174.9121556\ttotal: 1.78s\tremaining: 4.16s\n",
      "30:\tlearn: 173.9595197\ttotal: 1.84s\tremaining: 4.09s\n",
      "31:\tlearn: 172.6885109\ttotal: 1.89s\tremaining: 4.01s\n",
      "32:\tlearn: 171.3530538\ttotal: 1.94s\tremaining: 3.94s\n",
      "33:\tlearn: 170.5993208\ttotal: 2s\tremaining: 3.88s\n",
      "34:\tlearn: 169.6133187\ttotal: 2.05s\tremaining: 3.81s\n",
      "35:\tlearn: 168.1924167\ttotal: 2.1s\tremaining: 3.74s\n",
      "36:\tlearn: 167.4557737\ttotal: 2.16s\tremaining: 3.67s\n",
      "37:\tlearn: 166.4936259\ttotal: 2.21s\tremaining: 3.61s\n",
      "38:\tlearn: 165.4879445\ttotal: 2.27s\tremaining: 3.55s\n",
      "39:\tlearn: 164.8829261\ttotal: 2.32s\tremaining: 3.48s\n",
      "40:\tlearn: 164.2863788\ttotal: 2.37s\tremaining: 3.41s\n",
      "41:\tlearn: 163.7414080\ttotal: 2.42s\tremaining: 3.35s\n",
      "42:\tlearn: 162.8689843\ttotal: 2.49s\tremaining: 3.29s\n",
      "43:\tlearn: 162.2531130\ttotal: 2.54s\tremaining: 3.23s\n",
      "44:\tlearn: 161.5102276\ttotal: 2.59s\tremaining: 3.16s\n",
      "45:\tlearn: 160.6136243\ttotal: 2.64s\tremaining: 3.1s\n",
      "46:\tlearn: 159.5545082\ttotal: 2.7s\tremaining: 3.04s\n",
      "47:\tlearn: 159.1129372\ttotal: 2.75s\tremaining: 2.98s\n",
      "48:\tlearn: 158.6085433\ttotal: 2.81s\tremaining: 2.92s\n",
      "49:\tlearn: 157.8921813\ttotal: 2.86s\tremaining: 2.86s\n",
      "50:\tlearn: 157.0666819\ttotal: 2.92s\tremaining: 2.8s\n",
      "51:\tlearn: 156.4207525\ttotal: 2.97s\tremaining: 2.74s\n",
      "52:\tlearn: 155.5333403\ttotal: 3.02s\tremaining: 2.68s\n",
      "53:\tlearn: 155.2302205\ttotal: 3.07s\tremaining: 2.62s\n",
      "54:\tlearn: 154.5172858\ttotal: 3.12s\tremaining: 2.56s\n",
      "55:\tlearn: 154.0234864\ttotal: 3.19s\tremaining: 2.5s\n",
      "56:\tlearn: 153.3509139\ttotal: 3.24s\tremaining: 2.44s\n",
      "57:\tlearn: 152.7818344\ttotal: 3.29s\tremaining: 2.38s\n",
      "58:\tlearn: 152.4070906\ttotal: 3.35s\tremaining: 2.33s\n",
      "59:\tlearn: 152.0052475\ttotal: 3.4s\tremaining: 2.27s\n",
      "60:\tlearn: 151.4406783\ttotal: 3.46s\tremaining: 2.21s\n",
      "61:\tlearn: 151.0435044\ttotal: 3.51s\tremaining: 2.15s\n",
      "62:\tlearn: 150.6895011\ttotal: 3.54s\tremaining: 2.08s\n",
      "63:\tlearn: 150.3291942\ttotal: 3.59s\tremaining: 2.02s\n",
      "64:\tlearn: 149.8629877\ttotal: 3.64s\tremaining: 1.96s\n",
      "65:\tlearn: 149.4608558\ttotal: 3.69s\tremaining: 1.9s\n",
      "66:\tlearn: 149.2051772\ttotal: 3.75s\tremaining: 1.84s\n",
      "67:\tlearn: 148.8208351\ttotal: 3.8s\tremaining: 1.79s\n",
      "68:\tlearn: 148.4706642\ttotal: 3.85s\tremaining: 1.73s\n",
      "69:\tlearn: 147.9818202\ttotal: 3.9s\tremaining: 1.67s\n",
      "70:\tlearn: 147.5121810\ttotal: 3.96s\tremaining: 1.62s\n",
      "71:\tlearn: 147.3162116\ttotal: 4.02s\tremaining: 1.56s\n",
      "72:\tlearn: 146.9661448\ttotal: 4.07s\tremaining: 1.5s\n",
      "73:\tlearn: 146.3735549\ttotal: 4.12s\tremaining: 1.45s\n",
      "74:\tlearn: 145.9850284\ttotal: 4.17s\tremaining: 1.39s\n",
      "75:\tlearn: 145.4870771\ttotal: 4.24s\tremaining: 1.34s\n",
      "76:\tlearn: 145.3210722\ttotal: 4.29s\tremaining: 1.28s\n",
      "77:\tlearn: 144.8551637\ttotal: 4.34s\tremaining: 1.22s\n",
      "78:\tlearn: 144.6493999\ttotal: 4.39s\tremaining: 1.17s\n",
      "79:\tlearn: 144.3550475\ttotal: 4.42s\tremaining: 1.1s\n",
      "80:\tlearn: 144.0179605\ttotal: 4.47s\tremaining: 1.05s\n",
      "81:\tlearn: 143.7268550\ttotal: 4.52s\tremaining: 992ms\n",
      "82:\tlearn: 143.4030353\ttotal: 4.57s\tremaining: 936ms\n",
      "83:\tlearn: 143.2627796\ttotal: 4.62s\tremaining: 880ms\n",
      "84:\tlearn: 142.5105266\ttotal: 4.68s\tremaining: 825ms\n",
      "85:\tlearn: 142.2030818\ttotal: 4.73s\tremaining: 770ms\n",
      "86:\tlearn: 141.8144488\ttotal: 4.78s\tremaining: 714ms\n",
      "87:\tlearn: 141.4119288\ttotal: 4.83s\tremaining: 659ms\n",
      "88:\tlearn: 141.1124413\ttotal: 4.89s\tremaining: 604ms\n",
      "89:\tlearn: 140.8362315\ttotal: 4.95s\tremaining: 550ms\n",
      "90:\tlearn: 140.4505062\ttotal: 5.01s\tremaining: 496ms\n",
      "91:\tlearn: 140.0531835\ttotal: 5.07s\tremaining: 441ms\n",
      "92:\tlearn: 139.7921091\ttotal: 5.09s\tremaining: 383ms\n",
      "93:\tlearn: 139.4689871\ttotal: 5.14s\tremaining: 328ms\n",
      "94:\tlearn: 139.1885858\ttotal: 5.2s\tremaining: 274ms\n",
      "95:\tlearn: 138.9265685\ttotal: 5.25s\tremaining: 219ms\n",
      "96:\tlearn: 138.6476472\ttotal: 5.31s\tremaining: 164ms\n",
      "97:\tlearn: 138.4685825\ttotal: 5.37s\tremaining: 110ms\n",
      "98:\tlearn: 138.2118647\ttotal: 5.42s\tremaining: 54.8ms\n",
      "99:\tlearn: 137.9817595\ttotal: 5.47s\tremaining: 0us\n"
     ]
    },
    {
     "data": {
      "text/plain": [
       "GridSearchCV(cv=2,\n",
       "             estimator=<catboost.core.CatBoostRegressor object at 0x000001A7E4D71700>,\n",
       "             n_jobs=-1,\n",
       "             param_grid={'depth': [6, 8, 10, 21], 'iterations': [30, 50, 100],\n",
       "                         'learning_rate': [0.01, 0.05, 0.1]})"
      ]
     },
     "execution_count": 25,
     "metadata": {},
     "output_type": "execute_result"
    }
   ],
   "source": [
    "model = CatBoostRegressor(random_seed = 42 )\n",
    "parameters = {'depth'         : [6,8,10,21],\n",
    "                  'learning_rate' : [0.01, 0.05, 0.1],\n",
    "                  'iterations'    : [30, 50, 100]\n",
    "              }\n",
    "grid = GridSearchCV(estimator=model, param_grid = parameters, cv = 2, n_jobs=-1)\n",
    "grid.fit(X_train, y_train)"
   ]
  },
  {
   "cell_type": "code",
   "execution_count": 26,
   "id": "836239d8",
   "metadata": {},
   "outputs": [],
   "source": [
    "pred = grid.predict(X_test)\n"
   ]
  },
  {
   "cell_type": "code",
   "execution_count": 27,
   "id": "b395fd86",
   "metadata": {},
   "outputs": [
    {
     "data": {
      "text/plain": [
       "0.11175927808523356"
      ]
     },
     "execution_count": 27,
     "metadata": {},
     "output_type": "execute_result"
    }
   ],
   "source": [
    "grid.score(X_test, y_test)"
   ]
  },
  {
   "cell_type": "code",
   "execution_count": 28,
   "id": "ade0f8e7",
   "metadata": {},
   "outputs": [
    {
     "data": {
      "text/plain": [
       "0.11175927808523356"
      ]
     },
     "execution_count": 28,
     "metadata": {},
     "output_type": "execute_result"
    }
   ],
   "source": [
    "r2_score(y_test, pred)"
   ]
  },
  {
   "cell_type": "code",
   "execution_count": 29,
   "id": "49709065",
   "metadata": {},
   "outputs": [
    {
     "name": "stdout",
     "output_type": "stream",
     "text": [
      "62.54765937124322\n",
      "24080.109181691554\n",
      "155.17766972632228\n"
     ]
    }
   ],
   "source": [
    "#evaluating the performance of the model\n",
    "#MAE\n",
    "print(mean_absolute_error(y_test, pred), end='\\n')\n",
    "#MSE\n",
    "print(mean_squared_error(y_test, pred), end='\\n')\n",
    "#RMSE\n",
    "print(np.sqrt(mean_squared_error(y_test, pred)))"
   ]
  },
  {
   "cell_type": "code",
   "execution_count": 32,
   "id": "987bb0e9",
   "metadata": {},
   "outputs": [],
   "source": [
    "test_new = pd.read_csv('airbnb_listing_validate.csv')"
   ]
  },
  {
   "cell_type": "code",
   "execution_count": 33,
   "id": "967050d6",
   "metadata": {},
   "outputs": [
    {
     "data": {
      "text/plain": [
       "Index(['id', 'name', 'host_id', 'host_name', 'neighbourhood_group',\n",
       "       'neighbourhood', 'latitude', 'longitude', 'room_type', 'minimum_nights',\n",
       "       'number_of_reviews', 'last_review', 'reviews_per_month',\n",
       "       'calculated_host_listings_count', 'availability_365'],\n",
       "      dtype='object')"
      ]
     },
     "execution_count": 33,
     "metadata": {},
     "output_type": "execute_result"
    }
   ],
   "source": [
    "test_new.columns"
   ]
  },
  {
   "cell_type": "code",
   "execution_count": 34,
   "id": "515aa781",
   "metadata": {},
   "outputs": [
    {
     "name": "stdout",
     "output_type": "stream",
     "text": [
      "<class 'pandas.core.frame.DataFrame'>\n",
      "RangeIndex: 6451 entries, 0 to 6450\n",
      "Data columns (total 15 columns):\n",
      " #   Column                          Non-Null Count  Dtype  \n",
      "---  ------                          --------------  -----  \n",
      " 0   id                              6451 non-null   int64  \n",
      " 1   name                            6440 non-null   object \n",
      " 2   host_id                         6451 non-null   int64  \n",
      " 3   host_name                       6448 non-null   object \n",
      " 4   neighbourhood_group             0 non-null      float64\n",
      " 5   neighbourhood                   6451 non-null   object \n",
      " 6   latitude                        6451 non-null   float64\n",
      " 7   longitude                       6451 non-null   float64\n",
      " 8   room_type                       6451 non-null   object \n",
      " 9   minimum_nights                  6451 non-null   int64  \n",
      " 10  number_of_reviews               6451 non-null   int64  \n",
      " 11  last_review                     5655 non-null   object \n",
      " 12  reviews_per_month               5655 non-null   float64\n",
      " 13  calculated_host_listings_count  6451 non-null   int64  \n",
      " 14  availability_365                6451 non-null   int64  \n",
      "dtypes: float64(4), int64(6), object(5)\n",
      "memory usage: 756.1+ KB\n"
     ]
    }
   ],
   "source": [
    "test_new.info()"
   ]
  },
  {
   "cell_type": "code",
   "execution_count": 35,
   "id": "d44ee3f9",
   "metadata": {},
   "outputs": [],
   "source": [
    "test_new.drop(['name','host_name','neighbourhood_group', 'last_review','reviews_per_month'], axis=1, inplace =True)\n"
   ]
  },
  {
   "cell_type": "code",
   "execution_count": 36,
   "id": "95f50467",
   "metadata": {},
   "outputs": [
    {
     "data": {
      "text/plain": [
       "id                                   int64\n",
       "host_id                              int64\n",
       "neighbourhood                     category\n",
       "latitude                           float64\n",
       "longitude                          float64\n",
       "room_type                           object\n",
       "minimum_nights                       int64\n",
       "number_of_reviews                    int64\n",
       "calculated_host_listings_count       int64\n",
       "availability_365                     int64\n",
       "dtype: object"
      ]
     },
     "execution_count": 36,
     "metadata": {},
     "output_type": "execute_result"
    }
   ],
   "source": [
    "#convert to category dtype\n",
    "test_new['neighbourhood'] = test_new['neighbourhood'].astype('category')\n",
    "test_new.dtypes"
   ]
  },
  {
   "cell_type": "code",
   "execution_count": 37,
   "id": "08fb8e98",
   "metadata": {},
   "outputs": [],
   "source": [
    "#use .cat.codes to create new colums with encoded value\n",
    "test_new['neighbourhood'] = test_new['neighbourhood'].cat.codes\n"
   ]
  },
  {
   "cell_type": "code",
   "execution_count": 38,
   "id": "33658069",
   "metadata": {},
   "outputs": [],
   "source": [
    "#convert categorical variable into dummy/indicator variables for ML\n",
    "test_new = pd.get_dummies(test_new, columns=['room_type'])\n"
   ]
  },
  {
   "cell_type": "code",
   "execution_count": 39,
   "id": "f27f1bf9",
   "metadata": {},
   "outputs": [],
   "source": [
    "#Convert longitude and latitude into cartesian coordinates. Assume the earth as sphere not ellipsoid\n",
    "R = 6371000 #Approximate mean radius of earth (in m)\n"
   ]
  },
  {
   "cell_type": "code",
   "execution_count": 40,
   "id": "80ca66ed",
   "metadata": {},
   "outputs": [],
   "source": [
    " #lons and lats must be in radians\n",
    "lon,lat = map(np.radians, [test_new['longitude'], test_new['latitude']])\n",
    "\n",
    "# 'Single-point' Haversine formula\n",
    "a = np.sin(lat/2)**2 + np.cos(lat) * np.sin(lon/2)**2\n",
    "distance = 2 * R * np.arcsin(np.sqrt(a))\n",
    "\n",
    "#creating new column distance and dropping longitude and latitude column\n",
    "test_new['distance'] = distance\n",
    "test_new.drop(['latitude', 'longitude'], axis = 1, inplace = True)"
   ]
  },
  {
   "cell_type": "code",
   "execution_count": 41,
   "id": "9e916dd5",
   "metadata": {},
   "outputs": [
    {
     "data": {
      "text/plain": [
       "Index(['id', 'host_id', 'neighbourhood', 'minimum_nights', 'number_of_reviews',\n",
       "       'calculated_host_listings_count', 'availability_365',\n",
       "       'room_type_Entire home/apt', 'room_type_Hotel room',\n",
       "       'room_type_Private room', 'room_type_Shared room', 'distance'],\n",
       "      dtype='object')"
      ]
     },
     "execution_count": 41,
     "metadata": {},
     "output_type": "execute_result"
    }
   ],
   "source": [
    "test_new.columns"
   ]
  },
  {
   "cell_type": "code",
   "execution_count": 42,
   "id": "926eae5f",
   "metadata": {},
   "outputs": [
    {
     "data": {
      "text/plain": [
       "id                                  int64\n",
       "host_id                             int64\n",
       "neighbourhood                        int8\n",
       "minimum_nights                      int64\n",
       "number_of_reviews                   int64\n",
       "calculated_host_listings_count      int64\n",
       "availability_365                    int64\n",
       "room_type_Entire home/apt           uint8\n",
       "room_type_Hotel room                uint8\n",
       "room_type_Private room              uint8\n",
       "room_type_Shared room               uint8\n",
       "distance                          float64\n",
       "dtype: object"
      ]
     },
     "execution_count": 42,
     "metadata": {},
     "output_type": "execute_result"
    }
   ],
   "source": [
    "test_new.dtypes"
   ]
  },
  {
   "cell_type": "code",
   "execution_count": 43,
   "id": "0ae61de7",
   "metadata": {},
   "outputs": [
    {
     "name": "stdout",
     "output_type": "stream",
     "text": [
      "<class 'pandas.core.frame.DataFrame'>\n",
      "RangeIndex: 6451 entries, 0 to 6450\n",
      "Data columns (total 12 columns):\n",
      " #   Column                          Non-Null Count  Dtype  \n",
      "---  ------                          --------------  -----  \n",
      " 0   id                              6451 non-null   int64  \n",
      " 1   host_id                         6451 non-null   int64  \n",
      " 2   neighbourhood                   6451 non-null   int8   \n",
      " 3   minimum_nights                  6451 non-null   int64  \n",
      " 4   number_of_reviews               6451 non-null   int64  \n",
      " 5   calculated_host_listings_count  6451 non-null   int64  \n",
      " 6   availability_365                6451 non-null   int64  \n",
      " 7   room_type_Entire home/apt       6451 non-null   uint8  \n",
      " 8   room_type_Hotel room            6451 non-null   uint8  \n",
      " 9   room_type_Private room          6451 non-null   uint8  \n",
      " 10  room_type_Shared room           6451 non-null   uint8  \n",
      " 11  distance                        6451 non-null   float64\n",
      "dtypes: float64(1), int64(6), int8(1), uint8(4)\n",
      "memory usage: 384.4 KB\n"
     ]
    }
   ],
   "source": [
    "test_new.info()"
   ]
  },
  {
   "cell_type": "code",
   "execution_count": 44,
   "id": "fb9fa6ad",
   "metadata": {},
   "outputs": [
    {
     "name": "stderr",
     "output_type": "stream",
     "text": [
      "C:\\Users\\Admin\\AppData\\Roaming\\Python\\Python39\\site-packages\\sklearn\\model_selection\\_validation.py:372: FitFailedWarning: \n",
      "18 fits failed out of a total of 72.\n",
      "The score on these train-test partitions for these parameters will be set to nan.\n",
      "If these failures are not expected, you can try to debug them by setting error_score='raise'.\n",
      "\n",
      "Below are more details about the failures:\n",
      "--------------------------------------------------------------------------------\n",
      "18 fits failed with the following error:\n",
      "Traceback (most recent call last):\n",
      "  File \"C:\\Users\\Admin\\AppData\\Roaming\\Python\\Python39\\site-packages\\sklearn\\model_selection\\_validation.py\", line 680, in _fit_and_score\n",
      "    estimator.fit(X_train, y_train, **fit_params)\n",
      "  File \"C:\\Users\\Admin\\AppData\\Roaming\\Python\\Python39\\site-packages\\catboost\\core.py\", line 5351, in fit\n",
      "    return self._fit(X, y, cat_features, None, None, None, sample_weight, None, None, None, None, baseline,\n",
      "  File \"C:\\Users\\Admin\\AppData\\Roaming\\Python\\Python39\\site-packages\\catboost\\core.py\", line 2073, in _fit\n",
      "    train_params = self._prepare_train_params(\n",
      "  File \"C:\\Users\\Admin\\AppData\\Roaming\\Python\\Python39\\site-packages\\catboost\\core.py\", line 2005, in _prepare_train_params\n",
      "    _check_train_params(params)\n",
      "  File \"_catboost.pyx\", line 5849, in _catboost._check_train_params\n",
      "  File \"_catboost.pyx\", line 5868, in _catboost._check_train_params\n",
      "_catboost.CatBoostError: C:/Program Files (x86)/Go Agent/pipelines/BuildMaster/catboost.git/catboost/private/libs/options/oblivious_tree_options.cpp:122: Maximum tree depth is 16\n",
      "\n",
      "  warnings.warn(some_fits_failed_message, FitFailedWarning)\n",
      "C:\\Users\\Admin\\AppData\\Roaming\\Python\\Python39\\site-packages\\sklearn\\model_selection\\_search.py:969: UserWarning: One or more of the test scores are non-finite: [0.06898614 0.17818992 0.20541809 0.10773378 0.20739047 0.21229702\n",
      " 0.1658843  0.22332431 0.20335458 0.07305196 0.21548094 0.25554925\n",
      " 0.1100551  0.25125999 0.26824    0.17218789 0.28286309 0.27846513\n",
      " 0.07248748 0.19857127 0.26700248 0.10866345 0.24343543 0.29063038\n",
      " 0.17433802 0.27110168 0.29781997        nan        nan        nan\n",
      "        nan        nan        nan        nan        nan        nan]\n",
      "  warnings.warn(\n"
     ]
    },
    {
     "name": "stdout",
     "output_type": "stream",
     "text": [
      "0:\tlearn: 226.8804979\ttotal: 51.6ms\tremaining: 5.11s\n",
      "1:\tlearn: 219.7382604\ttotal: 108ms\tremaining: 5.3s\n",
      "2:\tlearn: 213.6310975\ttotal: 167ms\tremaining: 5.4s\n",
      "3:\tlearn: 207.8563910\ttotal: 220ms\tremaining: 5.29s\n",
      "4:\tlearn: 202.2634806\ttotal: 285ms\tremaining: 5.42s\n",
      "5:\tlearn: 197.5928495\ttotal: 341ms\tremaining: 5.35s\n",
      "6:\tlearn: 194.2531726\ttotal: 399ms\tremaining: 5.3s\n",
      "7:\tlearn: 191.4235273\ttotal: 452ms\tremaining: 5.2s\n",
      "8:\tlearn: 187.9726597\ttotal: 514ms\tremaining: 5.19s\n",
      "9:\tlearn: 184.7710159\ttotal: 569ms\tremaining: 5.12s\n",
      "10:\tlearn: 182.0696438\ttotal: 627ms\tremaining: 5.07s\n",
      "11:\tlearn: 179.5887931\ttotal: 686ms\tremaining: 5.03s\n",
      "12:\tlearn: 176.9082028\ttotal: 748ms\tremaining: 5.01s\n",
      "13:\tlearn: 174.1498182\ttotal: 805ms\tremaining: 4.94s\n",
      "14:\tlearn: 171.8225554\ttotal: 861ms\tremaining: 4.88s\n",
      "15:\tlearn: 170.0824987\ttotal: 921ms\tremaining: 4.84s\n",
      "16:\tlearn: 168.9389340\ttotal: 979ms\tremaining: 4.78s\n",
      "17:\tlearn: 166.8862484\ttotal: 1.04s\tremaining: 4.72s\n",
      "18:\tlearn: 165.3678104\ttotal: 1.09s\tremaining: 4.66s\n",
      "19:\tlearn: 163.0756774\ttotal: 1.15s\tremaining: 4.6s\n",
      "20:\tlearn: 162.1963891\ttotal: 1.21s\tremaining: 4.55s\n",
      "21:\tlearn: 160.4702149\ttotal: 1.26s\tremaining: 4.49s\n",
      "22:\tlearn: 158.7198651\ttotal: 1.32s\tremaining: 4.42s\n",
      "23:\tlearn: 157.9151568\ttotal: 1.38s\tremaining: 4.36s\n",
      "24:\tlearn: 157.0133087\ttotal: 1.43s\tremaining: 4.3s\n",
      "25:\tlearn: 156.1349072\ttotal: 1.49s\tremaining: 4.25s\n",
      "26:\tlearn: 155.0817919\ttotal: 1.55s\tremaining: 4.19s\n",
      "27:\tlearn: 154.1428391\ttotal: 1.6s\tremaining: 4.12s\n",
      "28:\tlearn: 153.5151358\ttotal: 1.66s\tremaining: 4.07s\n",
      "29:\tlearn: 153.0059367\ttotal: 1.73s\tremaining: 4.03s\n",
      "30:\tlearn: 152.4962755\ttotal: 1.78s\tremaining: 3.97s\n",
      "31:\tlearn: 151.7844114\ttotal: 1.84s\tremaining: 3.92s\n",
      "32:\tlearn: 150.8976296\ttotal: 1.91s\tremaining: 3.88s\n",
      "33:\tlearn: 150.6041969\ttotal: 1.96s\tremaining: 3.8s\n",
      "34:\tlearn: 150.0324108\ttotal: 2.01s\tremaining: 3.73s\n",
      "35:\tlearn: 149.6050978\ttotal: 2.06s\tremaining: 3.67s\n",
      "36:\tlearn: 148.9431914\ttotal: 2.12s\tremaining: 3.62s\n",
      "37:\tlearn: 148.2060225\ttotal: 2.19s\tremaining: 3.57s\n",
      "38:\tlearn: 147.5564081\ttotal: 2.24s\tremaining: 3.51s\n",
      "39:\tlearn: 146.9283503\ttotal: 2.3s\tremaining: 3.45s\n",
      "40:\tlearn: 146.6570203\ttotal: 2.36s\tremaining: 3.39s\n",
      "41:\tlearn: 146.1761774\ttotal: 2.42s\tremaining: 3.33s\n",
      "42:\tlearn: 145.4604456\ttotal: 2.48s\tremaining: 3.29s\n",
      "43:\tlearn: 145.0993922\ttotal: 2.54s\tremaining: 3.23s\n",
      "44:\tlearn: 144.5127180\ttotal: 2.6s\tremaining: 3.18s\n",
      "45:\tlearn: 144.1043093\ttotal: 2.66s\tremaining: 3.12s\n",
      "46:\tlearn: 143.6384114\ttotal: 2.72s\tremaining: 3.06s\n",
      "47:\tlearn: 143.1668660\ttotal: 2.77s\tremaining: 3s\n",
      "48:\tlearn: 142.5531100\ttotal: 2.83s\tremaining: 2.95s\n",
      "49:\tlearn: 141.9182999\ttotal: 2.89s\tremaining: 2.89s\n",
      "50:\tlearn: 141.1773230\ttotal: 2.94s\tremaining: 2.83s\n",
      "51:\tlearn: 140.7211207\ttotal: 2.96s\tremaining: 2.73s\n",
      "52:\tlearn: 140.3489662\ttotal: 3.02s\tremaining: 2.67s\n",
      "53:\tlearn: 139.8666288\ttotal: 3.07s\tremaining: 2.62s\n",
      "54:\tlearn: 139.2920947\ttotal: 3.13s\tremaining: 2.56s\n",
      "55:\tlearn: 138.3656494\ttotal: 3.19s\tremaining: 2.5s\n",
      "56:\tlearn: 137.8572478\ttotal: 3.24s\tremaining: 2.44s\n",
      "57:\tlearn: 137.6518243\ttotal: 3.3s\tremaining: 2.39s\n",
      "58:\tlearn: 137.1027115\ttotal: 3.36s\tremaining: 2.33s\n",
      "59:\tlearn: 136.6422019\ttotal: 3.42s\tremaining: 2.28s\n",
      "60:\tlearn: 135.9510648\ttotal: 3.45s\tremaining: 2.2s\n",
      "61:\tlearn: 135.5296286\ttotal: 3.48s\tremaining: 2.13s\n",
      "62:\tlearn: 135.0210152\ttotal: 3.53s\tremaining: 2.07s\n",
      "63:\tlearn: 134.6462167\ttotal: 3.59s\tremaining: 2.02s\n",
      "64:\tlearn: 134.2102350\ttotal: 3.65s\tremaining: 1.97s\n",
      "65:\tlearn: 133.8602600\ttotal: 3.71s\tremaining: 1.91s\n",
      "66:\tlearn: 133.4761792\ttotal: 3.77s\tremaining: 1.86s\n",
      "67:\tlearn: 133.2329683\ttotal: 3.83s\tremaining: 1.8s\n",
      "68:\tlearn: 132.7679651\ttotal: 3.89s\tremaining: 1.75s\n",
      "69:\tlearn: 132.5081333\ttotal: 3.94s\tremaining: 1.69s\n",
      "70:\tlearn: 132.1176042\ttotal: 4s\tremaining: 1.64s\n",
      "71:\tlearn: 131.8725014\ttotal: 4.06s\tremaining: 1.58s\n",
      "72:\tlearn: 131.6935532\ttotal: 4.11s\tremaining: 1.52s\n",
      "73:\tlearn: 131.2980765\ttotal: 4.17s\tremaining: 1.47s\n",
      "74:\tlearn: 130.6098718\ttotal: 4.23s\tremaining: 1.41s\n",
      "75:\tlearn: 129.8452844\ttotal: 4.29s\tremaining: 1.36s\n",
      "76:\tlearn: 129.4024202\ttotal: 4.37s\tremaining: 1.31s\n",
      "77:\tlearn: 129.0425065\ttotal: 4.43s\tremaining: 1.25s\n",
      "78:\tlearn: 128.7545833\ttotal: 4.49s\tremaining: 1.19s\n",
      "79:\tlearn: 128.3632008\ttotal: 4.55s\tremaining: 1.14s\n",
      "80:\tlearn: 128.1120783\ttotal: 4.61s\tremaining: 1.08s\n",
      "81:\tlearn: 127.9059795\ttotal: 4.66s\tremaining: 1.02s\n",
      "82:\tlearn: 127.7705114\ttotal: 4.72s\tremaining: 967ms\n",
      "83:\tlearn: 127.5186619\ttotal: 4.78s\tremaining: 910ms\n",
      "84:\tlearn: 127.2497920\ttotal: 4.83s\tremaining: 853ms\n",
      "85:\tlearn: 127.0093790\ttotal: 4.84s\tremaining: 789ms\n",
      "86:\tlearn: 126.7776904\ttotal: 4.9s\tremaining: 732ms\n",
      "87:\tlearn: 126.4273432\ttotal: 4.95s\tremaining: 676ms\n",
      "88:\tlearn: 126.1517264\ttotal: 5.01s\tremaining: 619ms\n",
      "89:\tlearn: 125.8768447\ttotal: 5.06s\tremaining: 562ms\n",
      "90:\tlearn: 125.8618218\ttotal: 5.07s\tremaining: 502ms\n",
      "91:\tlearn: 125.0513071\ttotal: 5.13s\tremaining: 446ms\n",
      "92:\tlearn: 124.7010858\ttotal: 5.18s\tremaining: 390ms\n",
      "93:\tlearn: 124.5262361\ttotal: 5.24s\tremaining: 334ms\n",
      "94:\tlearn: 124.3365020\ttotal: 5.29s\tremaining: 278ms\n",
      "95:\tlearn: 124.1190343\ttotal: 5.35s\tremaining: 223ms\n",
      "96:\tlearn: 123.6388904\ttotal: 5.41s\tremaining: 167ms\n",
      "97:\tlearn: 123.4404361\ttotal: 5.46s\tremaining: 112ms\n",
      "98:\tlearn: 123.2393148\ttotal: 5.52s\tremaining: 55.7ms\n",
      "99:\tlearn: 122.6569854\ttotal: 5.57s\tremaining: 0us\n"
     ]
    },
    {
     "data": {
      "text/plain": [
       "GridSearchCV(cv=2,\n",
       "             estimator=<catboost.core.CatBoostRegressor object at 0x000001A7E4DB6DC0>,\n",
       "             n_jobs=-1,\n",
       "             param_grid={'depth': [6, 8, 10, 21], 'iterations': [30, 50, 100],\n",
       "                         'learning_rate': [0.01, 0.05, 0.1]})"
      ]
     },
     "execution_count": 44,
     "metadata": {},
     "output_type": "execute_result"
    }
   ],
   "source": [
    "newmodel = CatBoostRegressor(random_seed = 42 )\n",
    "newparameters = {'depth'         : [6,8,10,21],\n",
    "                  'learning_rate' : [0.01, 0.05, 0.1],\n",
    "                  'iterations'    : [30, 50, 100]\n",
    "              }\n",
    "newgrid = GridSearchCV(estimator=newmodel, param_grid = newparameters, cv = 2, n_jobs=-1)\n",
    "newgrid.fit(X, y)"
   ]
  },
  {
   "cell_type": "code",
   "execution_count": 45,
   "id": "60e34e49",
   "metadata": {},
   "outputs": [],
   "source": [
    "testnew_pred = newgrid.predict(test_new)"
   ]
  },
  {
   "cell_type": "code",
   "execution_count": 47,
   "id": "93232d85",
   "metadata": {},
   "outputs": [],
   "source": [
    "res = pd.DataFrame(testnew_pred)"
   ]
  },
  {
   "cell_type": "code",
   "execution_count": 49,
   "id": "e34176c8",
   "metadata": {},
   "outputs": [],
   "source": [
    "# To download the csv file locally\n",
    "res.to_csv('sample_submission.csv')        "
   ]
  },
  {
   "cell_type": "code",
   "execution_count": null,
   "id": "5ba0a73a",
   "metadata": {},
   "outputs": [],
   "source": []
  }
 ],
 "metadata": {
  "kernelspec": {
   "display_name": "Python 3 (ipykernel)",
   "language": "python",
   "name": "python3"
  },
  "language_info": {
   "codemirror_mode": {
    "name": "ipython",
    "version": 3
   },
   "file_extension": ".py",
   "mimetype": "text/x-python",
   "name": "python",
   "nbconvert_exporter": "python",
   "pygments_lexer": "ipython3",
   "version": "3.9.7"
  }
 },
 "nbformat": 4,
 "nbformat_minor": 5
}
