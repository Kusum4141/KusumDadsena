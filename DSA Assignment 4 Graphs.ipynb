{
 "cells": [
  {
   "cell_type": "markdown",
   "id": "67876ab7",
   "metadata": {},
   "source": [
    "# Defining graph"
   ]
  },
  {
   "cell_type": "code",
   "execution_count": 1,
   "id": "1e81780c",
   "metadata": {},
   "outputs": [],
   "source": [
    "\n",
    "class Graph:\n",
    "    def __init__(self,gdict=None):\n",
    "        if gdict is None:\n",
    "            gdict = []\n",
    "        self.gdict = gdict  \n",
    "        \n",
    "    def add_vertex(self,v):\n",
    "        if v not in self.gdict:\n",
    "            self.gdict[v] = []         \n",
    "    def get_vertices(self):\n",
    "        return list(self.gdict.keys()) \n",
    "    \n",
    "    def add_edge(self,edge):\n",
    "        edge = set(edge)\n",
    "        (v1,v2) = tuple(edge)\n",
    "        if v1 in self.gdict:\n",
    "            self.gdict[v1].append(v2)\n",
    "        else:\n",
    "            self.gdict[v1] = [v2]\n",
    "    def findedges(self):\n",
    "        edges = []\n",
    "        for v in self.gdict:\n",
    "            for nextv in self.gdict[v]:\n",
    "                if {nextv,v} not in edges:\n",
    "                    edges.append({v,nextv})\n",
    "        return edges"
   ]
  },
  {
   "cell_type": "markdown",
   "id": "b4ce9cb5",
   "metadata": {},
   "source": [
    "# creating a graph elememnt\n"
   ]
  },
  {
   "cell_type": "code",
   "execution_count": 2,
   "id": "1c7c9351",
   "metadata": {},
   "outputs": [],
   "source": [
    "graph_elements = {'a':['b','c'],\n",
    "                 'b':['a','d'],\n",
    "                 'c':['a','d'],\n",
    "                 'd':['e'],\n",
    "                 'e':['d']}\n",
    "G = Graph(graph_elements)"
   ]
  },
  {
   "cell_type": "code",
   "execution_count": 3,
   "id": "7b72d90c",
   "metadata": {},
   "outputs": [
    {
     "data": {
      "text/plain": [
       "['a', 'b', 'c', 'd', 'e']"
      ]
     },
     "execution_count": 3,
     "metadata": {},
     "output_type": "execute_result"
    }
   ],
   "source": [
    "G.get_vertices()"
   ]
  },
  {
   "cell_type": "code",
   "execution_count": 4,
   "id": "75821eeb",
   "metadata": {},
   "outputs": [
    {
     "data": {
      "text/plain": [
       "[{'a', 'b'}, {'a', 'c'}, {'b', 'd'}, {'c', 'd'}, {'d', 'e'}]"
      ]
     },
     "execution_count": 4,
     "metadata": {},
     "output_type": "execute_result"
    }
   ],
   "source": [
    "G.findedges()"
   ]
  },
  {
   "cell_type": "markdown",
   "id": "991ffb06",
   "metadata": {},
   "source": [
    "# 1. Breadth First Traversal for a Graph"
   ]
  },
  {
   "cell_type": "code",
   "execution_count": 5,
   "id": "8b2d0edd",
   "metadata": {},
   "outputs": [],
   "source": [
    "# Defining Breath First Traversal function\n",
    "def BFS(self,s):\n",
    "    visited = []\n",
    "    queue = []\n",
    "    queue.append(s)\n",
    "    visited.append(s)\n",
    "    while queue:\n",
    "        s = queue.pop(0)\n",
    "        print(s,end = ' ')\n",
    "        for i in self.gdict[s]:\n",
    "            if i not in visited:\n",
    "                visited.append(i)\n",
    "                queue.append(i)"
   ]
  },
  {
   "cell_type": "markdown",
   "id": "3c27c3b4",
   "metadata": {},
   "source": [
    "## Adding the function to Graph class\n"
   ]
  },
  {
   "cell_type": "code",
   "execution_count": 6,
   "id": "d6f4b086",
   "metadata": {},
   "outputs": [],
   "source": [
    "Graph.BFS = BFS"
   ]
  },
  {
   "cell_type": "code",
   "execution_count": 7,
   "id": "d27e2d34",
   "metadata": {},
   "outputs": [
    {
     "name": "stdout",
     "output_type": "stream",
     "text": [
      "a b c d e "
     ]
    }
   ],
   "source": [
    "G.BFS('a')"
   ]
  },
  {
   "cell_type": "markdown",
   "id": "91a730a5",
   "metadata": {},
   "source": [
    "# 2. Depth First Traversal for a Graph"
   ]
  },
  {
   "cell_type": "code",
   "execution_count": 8,
   "id": "d7760fe4",
   "metadata": {},
   "outputs": [],
   "source": [
    "# Defining the function\n",
    "def DFS(self,v):\n",
    "    visited = set()\n",
    "    \n",
    "    def dfsutility(v,visited):\n",
    "        visited.add(v)\n",
    "        print(v, end=' ')\n",
    "        for i in self.gdict[v]:\n",
    "            if i not in visited:\n",
    "                dfsutility(i,visited)\n",
    "                \n",
    "    dfsutility(v,visited)"
   ]
  },
  {
   "cell_type": "code",
   "execution_count": 9,
   "id": "db324d9e",
   "metadata": {},
   "outputs": [
    {
     "name": "stdout",
     "output_type": "stream",
     "text": [
      "a b d e c "
     ]
    }
   ],
   "source": [
    "# Adding the function to the Graph class\n",
    "Graph.DFS = DFS\n",
    "G.DFS('a')"
   ]
  },
  {
   "cell_type": "markdown",
   "id": "fd661257",
   "metadata": {},
   "source": [
    "# 3. Count the number of nodes at given level in a tree using BFS"
   ]
  },
  {
   "cell_type": "code",
   "execution_count": 11,
   "id": "3765e957",
   "metadata": {},
   "outputs": [
    {
     "name": "stdout",
     "output_type": "stream",
     "text": [
      "4\n"
     ]
    }
   ],
   "source": [
    "class Graph:\n",
    "     \n",
    "    def __init__(self, V):\n",
    "         \n",
    "        # No. of vertices\n",
    "        self.V = V\n",
    "         \n",
    "       \n",
    "        self.adj = [[] for i in range(self.V)]\n",
    "         \n",
    "    def addEdge(self, src, des):\n",
    "         \n",
    "        self.adj[src].append(des)\n",
    "        self.adj[des].append(src)\n",
    "   \n",
    "    def DFS(self, visited, src, curr_level,\n",
    "            level, NumberOfNodes):\n",
    " \n",
    "        # Mark the current vertex as visited\n",
    "        visited[src] = True\n",
    "  \n",
    "       \n",
    "        if (level == curr_level):\n",
    "            NumberOfNodes += 1\n",
    "     \n",
    "        elif (level < curr_level):\n",
    "            return\n",
    "        else:\n",
    "             \n",
    "            # Recur for the vertices\n",
    "            # adjacent to the current vertex\n",
    "            for i in self.adj[src]:\n",
    "         \n",
    "                if (not visited[i]):\n",
    "                    curr_level += 1\n",
    "                    curr_level, NumberOfNodes = self.DFS(\n",
    "                        visited, i, curr_level,\n",
    "                        level, NumberOfNodes)\n",
    "     \n",
    "        curr_level -= 1\n",
    "         \n",
    "        return curr_level, NumberOfNodes\n",
    " \n",
    "    # Function to return the number of nodes\n",
    "    def NumOfNodes(self, level):\n",
    " \n",
    "        # To keep track of current level\n",
    "        curr_level = 0\n",
    "  \n",
    "       \n",
    "        visited = [False for i in range(self.V)]\n",
    "     \n",
    "        # To store count of nodes at a\n",
    "        # given level\n",
    "        NumberOfNodes = 0\n",
    "  \n",
    "        curr_level, NumberOfNodes = self.DFS(\n",
    "            visited, 0, curr_level,\n",
    "            level, NumberOfNodes)\n",
    "  \n",
    "        return NumberOfNodes\n",
    " \n",
    "# Driver code\n",
    "if __name__=='__main__':\n",
    " \n",
    "    V = 8\n",
    "  \n",
    "    g = Graph(8)\n",
    "    g.addEdge(0, 1)\n",
    "    g.addEdge(0, 4)\n",
    "    g.addEdge(0, 7)\n",
    "    g.addEdge(4, 6)\n",
    "    g.addEdge(4, 5)\n",
    "    g.addEdge(4, 2)\n",
    "    g.addEdge(7, 3)\n",
    "  \n",
    "    level = 2\n",
    "  \n",
    "    print(g.NumOfNodes(level))"
   ]
  },
  {
   "cell_type": "markdown",
   "id": "b3586232",
   "metadata": {},
   "source": [
    "# 4.Count number of trees in a forest"
   ]
  },
  {
   "cell_type": "code",
   "execution_count": 14,
   "id": "2dee8c23",
   "metadata": {},
   "outputs": [
    {
     "name": "stdout",
     "output_type": "stream",
     "text": [
      "2\n"
     ]
    }
   ],
   "source": [
    "def addEdge(adj, u, v):\n",
    "    adj[u].append(v)\n",
    "    adj[v].append(u)\n",
    "\n",
    "def DFSUtil(u, adj, visited):\n",
    "    visited[u] = True\n",
    "    for i in range(len(adj[u])):\n",
    "        if (visited[adj[u][i]] == False):\n",
    "            DFSUtil(adj[u][i], adj, visited)\n",
    "def countTrees(adj, V):\n",
    "    visited = [False] * V\n",
    "    res = 0\n",
    "    for u in range(V):\n",
    "        if (visited[u] == False):\n",
    "            DFSUtil(u, adj, visited)\n",
    "            res += 1\n",
    "    return res\n",
    " \n",
    "# Driver code\n",
    "if __name__ == '__main__':\n",
    " \n",
    "    V = 5\n",
    "    adj = [[] for i in range(V)]\n",
    "    addEdge(adj, 0, 1)\n",
    "    addEdge(adj, 0, 2)\n",
    "    addEdge(adj, 3, 4)\n",
    "    print(countTrees(adj, V))\n",
    " "
   ]
  },
  {
   "cell_type": "markdown",
   "id": "b97cab3a",
   "metadata": {},
   "source": [
    "# 5.Detect Cycle in a Directed Graph"
   ]
  },
  {
   "cell_type": "code",
   "execution_count": 16,
   "id": "0bc06e22",
   "metadata": {},
   "outputs": [
    {
     "name": "stdout",
     "output_type": "stream",
     "text": [
      "Graph has a cycle\n"
     ]
    }
   ],
   "source": [
    "from collections import defaultdict\n",
    " \n",
    "class Graph():\n",
    "    def __init__(self,vertices):\n",
    "        self.graph = defaultdict(list)\n",
    "        self.V = vertices\n",
    " \n",
    "    def addEdge(self,u,v):\n",
    "        self.graph[u].append(v)\n",
    " \n",
    "    def isCyclicUtil(self, v, visited, recStack):\n",
    " \n",
    "        # Mark current node as visited and\n",
    "        # adds to recursion stack\n",
    "        visited[v] = True\n",
    "        recStack[v] = True\n",
    " \n",
    "        # Recur for all neighbours\n",
    "        # if any neighbour is visited and in\n",
    "        # recStack then graph is cyclic\n",
    "        for neighbour in self.graph[v]:\n",
    "            if visited[neighbour] == False:\n",
    "                if self.isCyclicUtil(neighbour, visited, recStack) == True:\n",
    "                    return True\n",
    "            elif recStack[neighbour] == True:\n",
    "                return True\n",
    " \n",
    "        # The node needs to be poped from\n",
    "        # recursion stack before function ends\n",
    "        recStack[v] = False\n",
    "        return False\n",
    " \n",
    "    # Returns true if graph is cyclic else false\n",
    "    def isCyclic(self):\n",
    "        visited = [False] * (self.V + 1)\n",
    "        recStack = [False] * (self.V + 1)\n",
    "        for node in range(self.V):\n",
    "            if visited[node] == False:\n",
    "                if self.isCyclicUtil(node,visited,recStack) == True:\n",
    "                    return True\n",
    "        return False\n",
    " \n",
    "g = Graph(4)\n",
    "g.addEdge(0, 1)\n",
    "g.addEdge(0, 2)\n",
    "g.addEdge(1, 2)\n",
    "g.addEdge(2, 0)\n",
    "g.addEdge(2, 3)\n",
    "g.addEdge(3, 3)\n",
    "if g.isCyclic() == 1:\n",
    "    print (\"Graph has a cycle\")\n",
    "else:\n",
    "    print (\"Graph has no cycle\")\n",
    " "
   ]
  },
  {
   "cell_type": "code",
   "execution_count": null,
   "id": "6fafbfdc",
   "metadata": {},
   "outputs": [],
   "source": []
  },
  {
   "cell_type": "code",
   "execution_count": null,
   "id": "58696ad2",
   "metadata": {},
   "outputs": [],
   "source": []
  }
 ],
 "metadata": {
  "kernelspec": {
   "display_name": "Python 3 (ipykernel)",
   "language": "python",
   "name": "python3"
  },
  "language_info": {
   "codemirror_mode": {
    "name": "ipython",
    "version": 3
   },
   "file_extension": ".py",
   "mimetype": "text/x-python",
   "name": "python",
   "nbconvert_exporter": "python",
   "pygments_lexer": "ipython3",
   "version": "3.9.7"
  }
 },
 "nbformat": 4,
 "nbformat_minor": 5
}
