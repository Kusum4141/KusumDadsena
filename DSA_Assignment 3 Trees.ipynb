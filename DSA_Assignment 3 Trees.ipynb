{
 "cells": [
  {
   "cell_type": "markdown",
   "id": "4ada54c2",
   "metadata": {},
   "source": [
    "# 1. Implement Binary tree"
   ]
  },
  {
   "cell_type": "code",
   "execution_count": null,
   "id": "5bcbf16c",
   "metadata": {},
   "outputs": [],
   "source": [
    "# defining node for tree\n",
    "class Node:\n",
    "    def __init__(self,value):\n",
    "        self.left = None\n",
    "        self.right = None\n",
    "        self.data = value"
   ]
  },
  {
   "cell_type": "code",
   "execution_count": 2,
   "id": "8a283d5b",
   "metadata": {},
   "outputs": [],
   "source": [
    "Tree = Node(5)\n",
    "Tree.left = Node(10)\n",
    "Tree.right = Node(20)\n",
    "Tree.left.left = Node(7)\n",
    "Tree.left.right = Node(3)\n",
    "Tree.right.left = Node(14)\n",
    "Tree.right.right = Node(6)"
   ]
  },
  {
   "cell_type": "code",
   "execution_count": 3,
   "id": "79e23226",
   "metadata": {},
   "outputs": [
    {
     "name": "stdout",
     "output_type": "stream",
     "text": [
      "\t\t\t 5\n",
      "\t\t 10 \t\t 20\n",
      "\t 7 \t\t 3 14 \t\t 6\n"
     ]
    }
   ],
   "source": [
    "print('\\t\\t\\t',Tree.data)\n",
    "print('\\t\\t',Tree.left.data,'\\t\\t',Tree.right.data)\n",
    "print('\\t',Tree.left.left.data,'\\t\\t',Tree.left.right.data,Tree.right.left.data,'\\t\\t',Tree.right.right.data)"
   ]
  },
  {
   "cell_type": "markdown",
   "id": "44dda957",
   "metadata": {},
   "source": [
    "# 2. Find height of a given tree"
   ]
  },
  {
   "cell_type": "code",
   "execution_count": 4,
   "id": "ff03a38a",
   "metadata": {},
   "outputs": [],
   "source": [
    "# Defining function for finding height\n",
    "def height(self):\n",
    "    if self is None:\n",
    "        return -1 \n",
    "    else:\n",
    "        lDepth = height(self.left)\n",
    "        rDepth = height(self.right)\n",
    "        \n",
    "        if lDepth > rDepth:\n",
    "            return lDepth+1\n",
    "        else:\n",
    "            return rDepth+1"
   ]
  },
  {
   "cell_type": "code",
   "execution_count": 5,
   "id": "d0cce11c",
   "metadata": {},
   "outputs": [
    {
     "data": {
      "text/plain": [
       "2"
      ]
     },
     "execution_count": 5,
     "metadata": {},
     "output_type": "execute_result"
    }
   ],
   "source": [
    "# adding height function to the class\n",
    "Node.height = height\n",
    "Tree.height()"
   ]
  },
  {
   "cell_type": "markdown",
   "id": "79afd869",
   "metadata": {},
   "source": [
    "# 3. Perform Pre-order, Post-order, In-order traversal"
   ]
  },
  {
   "cell_type": "code",
   "execution_count": 6,
   "id": "428d8442",
   "metadata": {},
   "outputs": [],
   "source": [
    "# defining Pre-order\n",
    "def pre_order(self):\n",
    "    if self:\n",
    "        print(str(self.data),end=' ')\n",
    "        pre_order(self.left)\n",
    "        pre_order(self.right)\n",
    "# defining Post-order\n",
    "def post_order(self):\n",
    "    if self:\n",
    "        post_order(self.left)\n",
    "        post_order(self.right)\n",
    "        print(str(self.data),end=' ')\n",
    "# defining In-order\n",
    "def in_order(self):\n",
    "    if self:\n",
    "        in_order(self.left)\n",
    "        print(str(self.data),end=' ')\n",
    "        in_order(self.right)"
   ]
  },
  {
   "cell_type": "code",
   "execution_count": 7,
   "id": "645db817",
   "metadata": {},
   "outputs": [],
   "source": [
    "# Adding this functions to the Node class\n",
    "Node.pre_order = pre_order\n",
    "Node.post_order = post_order\n",
    "Node.in_order = in_order\n"
   ]
  },
  {
   "cell_type": "code",
   "execution_count": 8,
   "id": "4fcc97ba",
   "metadata": {},
   "outputs": [
    {
     "name": "stdout",
     "output_type": "stream",
     "text": [
      "5 10 7 3 20 14 6 "
     ]
    }
   ],
   "source": [
    "Tree.pre_order()"
   ]
  },
  {
   "cell_type": "code",
   "execution_count": 9,
   "id": "973d08b2",
   "metadata": {},
   "outputs": [
    {
     "name": "stdout",
     "output_type": "stream",
     "text": [
      "7 3 10 14 6 20 5 "
     ]
    }
   ],
   "source": [
    "Tree.post_order()"
   ]
  },
  {
   "cell_type": "code",
   "execution_count": 10,
   "id": "c2ea46af",
   "metadata": {},
   "outputs": [
    {
     "name": "stdout",
     "output_type": "stream",
     "text": [
      "7 10 3 5 14 20 6 "
     ]
    }
   ],
   "source": [
    "Tree.in_order()"
   ]
  },
  {
   "cell_type": "markdown",
   "id": "dcfbc985",
   "metadata": {},
   "source": [
    "# 4. Function to print all the leaves in a given binary tree"
   ]
  },
  {
   "cell_type": "code",
   "execution_count": 11,
   "id": "fded136e",
   "metadata": {},
   "outputs": [],
   "source": [
    "# Defining function to print all the leaves\n",
    "def print_leaves(self):\n",
    "    if not self:\n",
    "        return\n",
    "    if not self.left and not self.right:\n",
    "        print(self.data,end=' ')\n",
    "        return\n",
    "    if self.left:\n",
    "        print_leaves(self.left)\n",
    "    if self.right:\n",
    "        print_leaves(self.right)"
   ]
  },
  {
   "cell_type": "code",
   "execution_count": 12,
   "id": "b2674402",
   "metadata": {},
   "outputs": [],
   "source": [
    "# Adding the function to the Node class\n",
    "Node.print_leaves = print_leaves"
   ]
  },
  {
   "cell_type": "code",
   "execution_count": 13,
   "id": "2a352145",
   "metadata": {},
   "outputs": [
    {
     "name": "stdout",
     "output_type": "stream",
     "text": [
      "7 3 14 6 "
     ]
    }
   ],
   "source": [
    "Tree.print_leaves()"
   ]
  },
  {
   "cell_type": "markdown",
   "id": "89c2b410",
   "metadata": {},
   "source": [
    "# 5. Implement BFS (Breath First Search) and DFS (Depth First Search)"
   ]
  },
  {
   "cell_type": "code",
   "execution_count": 14,
   "id": "dda7e28d",
   "metadata": {},
   "outputs": [],
   "source": [
    "import collections\n"
   ]
  },
  {
   "cell_type": "code",
   "execution_count": 15,
   "id": "e246f273",
   "metadata": {},
   "outputs": [],
   "source": [
    "# Defining a function for Breath First Search\n",
    "def bfs(self):\n",
    "    if self is None:\n",
    "        return\n",
    "    queue = []\n",
    "    queue.append(self)\n",
    "    while len(queue) > 0:\n",
    "        print(queue[0].data,end=' ')\n",
    "        node = queue.pop(0)\n",
    "        if node.left is not None:\n",
    "            queue.append(node.left)\n",
    "        if node.right is not None:\n",
    "            queue.append(node.right)"
   ]
  },
  {
   "cell_type": "code",
   "execution_count": 16,
   "id": "2af58001",
   "metadata": {},
   "outputs": [
    {
     "name": "stdout",
     "output_type": "stream",
     "text": [
      "5 10 20 7 3 14 6 "
     ]
    }
   ],
   "source": [
    "# Adding the function to the Node class\n",
    "Node.BFS = bfs\n",
    "Tree.BFS()"
   ]
  },
  {
   "cell_type": "code",
   "execution_count": 17,
   "id": "ce120b50",
   "metadata": {},
   "outputs": [],
   "source": [
    "# Defining a function for Depth First Search\n",
    "# Depth first search is same as Inorder traversal\n",
    "def dfs(self):\n",
    "    self.in_order()"
   ]
  },
  {
   "cell_type": "code",
   "execution_count": 18,
   "id": "f8b3c210",
   "metadata": {},
   "outputs": [
    {
     "name": "stdout",
     "output_type": "stream",
     "text": [
      "7 10 3 5 14 20 6 "
     ]
    }
   ],
   "source": [
    "# Adding this function to Node class\n",
    "Node.DFS = dfs\n",
    "Tree.DFS()"
   ]
  },
  {
   "cell_type": "markdown",
   "id": "891b3f75",
   "metadata": {},
   "source": [
    "# 6. Find sum of all left leaves in a given Binary Tree"
   ]
  },
  {
   "cell_type": "code",
   "execution_count": 19,
   "id": "d5aee668",
   "metadata": {},
   "outputs": [],
   "source": [
    "# defining a function to check whether a node is a leaf or not\n",
    "def is_leaf(node):\n",
    "    if node is None:\n",
    "        return False\n",
    "    if node.left is None and node.right is None:\n",
    "        return True\n",
    "    else:\n",
    "        return False"
   ]
  },
  {
   "cell_type": "code",
   "execution_count": 20,
   "id": "f3b05d44",
   "metadata": {},
   "outputs": [],
   "source": [
    "# Defining function for summing up left leaves\n",
    "def leftleaves_sum(self):\n",
    "    result = 0\n",
    "    if self is not None:\n",
    "        if is_leaf(self.left):\n",
    "            result += self.left.data\n",
    "        else:\n",
    "            result += leftleaves_sum(self.left)\n",
    "        \n",
    "        result += leftleaves_sum(self.right)\n",
    "        \n",
    "    return result"
   ]
  },
  {
   "cell_type": "code",
   "execution_count": 21,
   "id": "c5426776",
   "metadata": {},
   "outputs": [
    {
     "data": {
      "text/plain": [
       "21"
      ]
     },
     "execution_count": 21,
     "metadata": {},
     "output_type": "execute_result"
    }
   ],
   "source": [
    "# Adding function to the Node class\n",
    "Node.leftleaves_sum = leftleaves_sum\n",
    "Tree.leftleaves_sum()"
   ]
  },
  {
   "cell_type": "markdown",
   "id": "ba449317",
   "metadata": {},
   "source": [
    "# 7. Find sum of all nodes of the given perfect binary tree"
   ]
  },
  {
   "cell_type": "code",
   "execution_count": 22,
   "id": "ce5b212e",
   "metadata": {},
   "outputs": [
    {
     "data": {
      "text/plain": [
       "True"
      ]
     },
     "execution_count": 22,
     "metadata": {},
     "output_type": "execute_result"
    }
   ],
   "source": [
    "# Defining function to check if the tree is a perfect binary tree\n",
    "def depth(node):\n",
    "    d=0\n",
    "    while node != None:\n",
    "        d += 1\n",
    "        node = node.left\n",
    "    return d\n",
    "\n",
    "def is_perfect(self, d=None,level=0):\n",
    "    if d==None:\n",
    "        d = depth(self)\n",
    "    if self is None:\n",
    "        return True\n",
    "    if self.left is None and self.right is None:\n",
    "        return d==level+1\n",
    "    if self.left is None or self.right is None:\n",
    "        return False\n",
    "    return is_perfect(self.left,d,level+1) and is_perfect(self.right,d,level+1)\n",
    "Node.is_perfect = is_perfect\n",
    "Tree.is_perfect()"
   ]
  },
  {
   "cell_type": "code",
   "execution_count": 23,
   "id": "2d6ff063",
   "metadata": {},
   "outputs": [],
   "source": [
    "# defining function for sum of nodes\n",
    "def subtreesum(self):\n",
    "    if self is None:\n",
    "        return 0\n",
    "    return self.data + subtreesum(self.left) + subtreesum(self.right)\n",
    "Node.subtreesum = subtreesum\n"
   ]
  },
  {
   "cell_type": "code",
   "execution_count": 24,
   "id": "5ead959a",
   "metadata": {},
   "outputs": [],
   "source": [
    "# Defining function to find sum of all nodes\n",
    "def perfect_sum(self):\n",
    "    if self.is_perfect() is False:\n",
    "        return 'Tree is not perfect'\n",
    "    return self.subtreesum()\n"
   ]
  },
  {
   "cell_type": "code",
   "execution_count": 25,
   "id": "0edbf809",
   "metadata": {},
   "outputs": [
    {
     "data": {
      "text/plain": [
       "65"
      ]
     },
     "execution_count": 25,
     "metadata": {},
     "output_type": "execute_result"
    }
   ],
   "source": [
    "# Adding the function to the Node class\n",
    "Node.perfect_sum = perfect_sum\n",
    "Tree.perfect_sum()"
   ]
  },
  {
   "cell_type": "markdown",
   "id": "7907469f",
   "metadata": {},
   "source": [
    "# 8. Count subtress that sum up to a given value x in a binary tree"
   ]
  },
  {
   "cell_type": "code",
   "execution_count": 45,
   "id": "10f475cf",
   "metadata": {},
   "outputs": [],
   "source": [
    "def countsubtreewithsum(self,x):\n",
    "    count=0\n",
    "    def countsubtree(self,x):\n",
    "        global count\n",
    "        l=0\n",
    "        r=0\n",
    "        if self == None:\n",
    "            return 0\n",
    "        l += countsubtree(self.left,x)\n",
    "        r += countsubtree(self.right,x)\n",
    "        \n",
    "        if l+r+self.data == x:\n",
    "            count += 1\n",
    "        \n",
    "        if self != self:\n",
    "            return 1+self.data+r\n",
    "        return count\n",
    "    res=countsubtree(self,x)\n",
    "    return res"
   ]
  },
  {
   "cell_type": "code",
   "execution_count": 46,
   "id": "8713776b",
   "metadata": {},
   "outputs": [],
   "source": [
    "Node.countsubtreewithsum = countsubtreewithsum"
   ]
  },
  {
   "cell_type": "code",
   "execution_count": 47,
   "id": "60349dd8",
   "metadata": {},
   "outputs": [
    {
     "ename": "NameError",
     "evalue": "name 'count' is not defined",
     "output_type": "error",
     "traceback": [
      "\u001b[1;31m---------------------------------------------------------------------------\u001b[0m",
      "\u001b[1;31mNameError\u001b[0m                                 Traceback (most recent call last)",
      "\u001b[1;32m~\\AppData\\Local\\Temp/ipykernel_13476/1775791419.py\u001b[0m in \u001b[0;36m<module>\u001b[1;34m\u001b[0m\n\u001b[1;32m----> 1\u001b[1;33m \u001b[0mTree\u001b[0m\u001b[1;33m.\u001b[0m\u001b[0mcountsubtreewithsum\u001b[0m\u001b[1;33m(\u001b[0m\u001b[1;36m10\u001b[0m\u001b[1;33m)\u001b[0m\u001b[1;33m\u001b[0m\u001b[1;33m\u001b[0m\u001b[0m\n\u001b[0m",
      "\u001b[1;32m~\\AppData\\Local\\Temp/ipykernel_13476/3304161092.py\u001b[0m in \u001b[0;36mcountsubtreewithsum\u001b[1;34m(self, x)\u001b[0m\n\u001b[0;32m     16\u001b[0m             \u001b[1;32mreturn\u001b[0m \u001b[1;36m1\u001b[0m\u001b[1;33m+\u001b[0m\u001b[0mself\u001b[0m\u001b[1;33m.\u001b[0m\u001b[0mdata\u001b[0m\u001b[1;33m+\u001b[0m\u001b[0mr\u001b[0m\u001b[1;33m\u001b[0m\u001b[1;33m\u001b[0m\u001b[0m\n\u001b[0;32m     17\u001b[0m         \u001b[1;32mreturn\u001b[0m \u001b[0mcount\u001b[0m\u001b[1;33m\u001b[0m\u001b[1;33m\u001b[0m\u001b[0m\n\u001b[1;32m---> 18\u001b[1;33m     \u001b[0mres\u001b[0m\u001b[1;33m=\u001b[0m\u001b[0mcountsubtree\u001b[0m\u001b[1;33m(\u001b[0m\u001b[0mself\u001b[0m\u001b[1;33m,\u001b[0m\u001b[0mx\u001b[0m\u001b[1;33m)\u001b[0m\u001b[1;33m\u001b[0m\u001b[1;33m\u001b[0m\u001b[0m\n\u001b[0m\u001b[0;32m     19\u001b[0m     \u001b[1;32mreturn\u001b[0m \u001b[0mres\u001b[0m\u001b[1;33m\u001b[0m\u001b[1;33m\u001b[0m\u001b[0m\n",
      "\u001b[1;32m~\\AppData\\Local\\Temp/ipykernel_13476/3304161092.py\u001b[0m in \u001b[0;36mcountsubtree\u001b[1;34m(self, x)\u001b[0m\n\u001b[0;32m      7\u001b[0m         \u001b[1;32mif\u001b[0m \u001b[0mself\u001b[0m \u001b[1;33m==\u001b[0m \u001b[1;32mNone\u001b[0m\u001b[1;33m:\u001b[0m\u001b[1;33m\u001b[0m\u001b[1;33m\u001b[0m\u001b[0m\n\u001b[0;32m      8\u001b[0m             \u001b[1;32mreturn\u001b[0m \u001b[1;36m0\u001b[0m\u001b[1;33m\u001b[0m\u001b[1;33m\u001b[0m\u001b[0m\n\u001b[1;32m----> 9\u001b[1;33m         \u001b[0ml\u001b[0m \u001b[1;33m+=\u001b[0m \u001b[0mcountsubtree\u001b[0m\u001b[1;33m(\u001b[0m\u001b[0mself\u001b[0m\u001b[1;33m.\u001b[0m\u001b[0mleft\u001b[0m\u001b[1;33m,\u001b[0m\u001b[0mx\u001b[0m\u001b[1;33m)\u001b[0m\u001b[1;33m\u001b[0m\u001b[1;33m\u001b[0m\u001b[0m\n\u001b[0m\u001b[0;32m     10\u001b[0m         \u001b[0mr\u001b[0m \u001b[1;33m+=\u001b[0m \u001b[0mcountsubtree\u001b[0m\u001b[1;33m(\u001b[0m\u001b[0mself\u001b[0m\u001b[1;33m.\u001b[0m\u001b[0mright\u001b[0m\u001b[1;33m,\u001b[0m\u001b[0mx\u001b[0m\u001b[1;33m)\u001b[0m\u001b[1;33m\u001b[0m\u001b[1;33m\u001b[0m\u001b[0m\n\u001b[0;32m     11\u001b[0m \u001b[1;33m\u001b[0m\u001b[0m\n",
      "\u001b[1;32m~\\AppData\\Local\\Temp/ipykernel_13476/3304161092.py\u001b[0m in \u001b[0;36mcountsubtree\u001b[1;34m(self, x)\u001b[0m\n\u001b[0;32m      7\u001b[0m         \u001b[1;32mif\u001b[0m \u001b[0mself\u001b[0m \u001b[1;33m==\u001b[0m \u001b[1;32mNone\u001b[0m\u001b[1;33m:\u001b[0m\u001b[1;33m\u001b[0m\u001b[1;33m\u001b[0m\u001b[0m\n\u001b[0;32m      8\u001b[0m             \u001b[1;32mreturn\u001b[0m \u001b[1;36m0\u001b[0m\u001b[1;33m\u001b[0m\u001b[1;33m\u001b[0m\u001b[0m\n\u001b[1;32m----> 9\u001b[1;33m         \u001b[0ml\u001b[0m \u001b[1;33m+=\u001b[0m \u001b[0mcountsubtree\u001b[0m\u001b[1;33m(\u001b[0m\u001b[0mself\u001b[0m\u001b[1;33m.\u001b[0m\u001b[0mleft\u001b[0m\u001b[1;33m,\u001b[0m\u001b[0mx\u001b[0m\u001b[1;33m)\u001b[0m\u001b[1;33m\u001b[0m\u001b[1;33m\u001b[0m\u001b[0m\n\u001b[0m\u001b[0;32m     10\u001b[0m         \u001b[0mr\u001b[0m \u001b[1;33m+=\u001b[0m \u001b[0mcountsubtree\u001b[0m\u001b[1;33m(\u001b[0m\u001b[0mself\u001b[0m\u001b[1;33m.\u001b[0m\u001b[0mright\u001b[0m\u001b[1;33m,\u001b[0m\u001b[0mx\u001b[0m\u001b[1;33m)\u001b[0m\u001b[1;33m\u001b[0m\u001b[1;33m\u001b[0m\u001b[0m\n\u001b[0;32m     11\u001b[0m \u001b[1;33m\u001b[0m\u001b[0m\n",
      "\u001b[1;32m~\\AppData\\Local\\Temp/ipykernel_13476/3304161092.py\u001b[0m in \u001b[0;36mcountsubtree\u001b[1;34m(self, x)\u001b[0m\n\u001b[0;32m     15\u001b[0m         \u001b[1;32mif\u001b[0m \u001b[0mself\u001b[0m \u001b[1;33m!=\u001b[0m \u001b[0mself\u001b[0m\u001b[1;33m:\u001b[0m\u001b[1;33m\u001b[0m\u001b[1;33m\u001b[0m\u001b[0m\n\u001b[0;32m     16\u001b[0m             \u001b[1;32mreturn\u001b[0m \u001b[1;36m1\u001b[0m\u001b[1;33m+\u001b[0m\u001b[0mself\u001b[0m\u001b[1;33m.\u001b[0m\u001b[0mdata\u001b[0m\u001b[1;33m+\u001b[0m\u001b[0mr\u001b[0m\u001b[1;33m\u001b[0m\u001b[1;33m\u001b[0m\u001b[0m\n\u001b[1;32m---> 17\u001b[1;33m         \u001b[1;32mreturn\u001b[0m \u001b[0mcount\u001b[0m\u001b[1;33m\u001b[0m\u001b[1;33m\u001b[0m\u001b[0m\n\u001b[0m\u001b[0;32m     18\u001b[0m     \u001b[0mres\u001b[0m\u001b[1;33m=\u001b[0m\u001b[0mcountsubtree\u001b[0m\u001b[1;33m(\u001b[0m\u001b[0mself\u001b[0m\u001b[1;33m,\u001b[0m\u001b[0mx\u001b[0m\u001b[1;33m)\u001b[0m\u001b[1;33m\u001b[0m\u001b[1;33m\u001b[0m\u001b[0m\n\u001b[0;32m     19\u001b[0m     \u001b[1;32mreturn\u001b[0m \u001b[0mres\u001b[0m\u001b[1;33m\u001b[0m\u001b[1;33m\u001b[0m\u001b[0m\n",
      "\u001b[1;31mNameError\u001b[0m: name 'count' is not defined"
     ]
    }
   ],
   "source": [
    "Tree.countsubtreewithsum(10)"
   ]
  },
  {
   "cell_type": "markdown",
   "id": "6bfebf90",
   "metadata": {},
   "source": [
    "# 9. Find maximum level sum in Binary Tree"
   ]
  },
  {
   "cell_type": "code",
   "execution_count": 48,
   "id": "185e4ad1",
   "metadata": {},
   "outputs": [],
   "source": [
    "def maxlevelsum(self):\n",
    "    if self == None:\n",
    "        return 0\n",
    "    result = self.data\n",
    "    q = collections.deque()\n",
    "    q.append(self)\n",
    "    while(len(q)>0):\n",
    "        count = len(q)\n",
    "        sum = 0\n",
    "        while count > 0:\n",
    "            temp = q.popleft()\n",
    "            sum = sum + temp.data\n",
    "            if (temp.left != None):\n",
    "                q.append(temp.left)\n",
    "            if (temp.right != None):\n",
    "                q.append(temp.right)\n",
    "                 \n",
    "            count -= 1  \n",
    "        result = max(sum,result)\n",
    "    return result"
   ]
  },
  {
   "cell_type": "code",
   "execution_count": 49,
   "id": "ad98b114",
   "metadata": {},
   "outputs": [
    {
     "data": {
      "text/plain": [
       "30"
      ]
     },
     "execution_count": 49,
     "metadata": {},
     "output_type": "execute_result"
    }
   ],
   "source": [
    "Node.maxlevelsum = maxlevelsum\n",
    "Tree.maxlevelsum()"
   ]
  },
  {
   "cell_type": "markdown",
   "id": "d4928977",
   "metadata": {},
   "source": [
    "# 10. Print the nodes at odd levels of a tree"
   ]
  },
  {
   "cell_type": "code",
   "execution_count": 50,
   "id": "a5f08025",
   "metadata": {},
   "outputs": [],
   "source": [
    "def printoddlevelnodes(self,isodd=True):\n",
    "    if self == None:\n",
    "        return\n",
    "    if isodd:\n",
    "        print(self.data,end=' ')\n",
    "    printoddlevelnodes(self.left,not isodd)\n",
    "    printoddlevelnodes(self.right,not isodd)"
   ]
  },
  {
   "cell_type": "code",
   "execution_count": 51,
   "id": "9e3c8b9b",
   "metadata": {},
   "outputs": [
    {
     "name": "stdout",
     "output_type": "stream",
     "text": [
      "5 7 3 14 6 "
     ]
    }
   ],
   "source": [
    "Node.printoddlevelnodes = printoddlevelnodes\n",
    "Tree.printoddlevelnodes()"
   ]
  },
  {
   "cell_type": "code",
   "execution_count": null,
   "id": "c727a8d7",
   "metadata": {},
   "outputs": [],
   "source": []
  }
 ],
 "metadata": {
  "kernelspec": {
   "display_name": "Python 3 (ipykernel)",
   "language": "python",
   "name": "python3"
  },
  "language_info": {
   "codemirror_mode": {
    "name": "ipython",
    "version": 3
   },
   "file_extension": ".py",
   "mimetype": "text/x-python",
   "name": "python",
   "nbconvert_exporter": "python",
   "pygments_lexer": "ipython3",
   "version": "3.9.7"
  }
 },
 "nbformat": 4,
 "nbformat_minor": 5
}
